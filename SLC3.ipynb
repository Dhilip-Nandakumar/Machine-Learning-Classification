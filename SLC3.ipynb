{
 "cells": [
  {
   "cell_type": "markdown",
   "metadata": {},
   "source": [
    "## Problem Statement\n",
    "\n",
    "Features are computed from a image of a fine needle aspirate (FNA) of a breast mass. These features describe the characteristics of the cell nuclei present in the image."
   ]
  },
  {
   "cell_type": "markdown",
   "metadata": {},
   "source": [
    "## About the dataset (Breast Cancer Data) \n",
    "\n",
    "**radius:** mean of distances from center to points on the perimeter<br>\n",
    "**texture:** standard deviation of gray-scale values<br>\n",
    "**perimeter:** Perimeter<br>\n",
    "**area:** Area<br>\n",
    "**smoothness:** local variation in radius lengths<br>\n",
    "**compactness:** perimeter^2 / area - 1.0<br>\n",
    "**concavity:** severity of concave portions of the contour<br>\n",
    "**concave points:** number of concave portions of the contour<br>\n",
    "**symmetry:** Symmetry<br>\n",
    "**fractal dimension:** fractal dimension<br>\n",
    "\n",
    "**Diagnosis:** The cancer is benign or malignant?(Target variable) (M = malignant, B = benign)"
   ]
  },
  {
   "cell_type": "markdown",
   "metadata": {},
   "source": [
    "## Table of Content\n",
    "\n",
    "1. **[Import Libraries](#lib)**\n",
    "2. **[Data Preparation](#prep)**\n",
    "    - 2.1 - **[Read the Data](#read)**\n",
    "    - 2.2 - **[Check the Data Type](#dtype)**\n",
    "    - 2.3 - **[Distribution of Variables](#dist)**\n",
    "    - 2.4 - **[Missing Value Treatment](#null)**\n",
    "\n",
    "3. **[K Nearest Neighbors (KNN)](#knn)**\n",
    "    - 3.1 - **[Optimal Value of K (using GridSearchCV)](#hyper)**\n",
    "4. **[Naive Bayes Algorithm](#NB)**\n",
    "5. **[Comparison between KNN Model and Naive Bayes Model](#compare)**"
   ]
  },
  {
   "cell_type": "markdown",
   "metadata": {},
   "source": [
    "<a id=\"lib\"></a>\n",
    "# 1. Import Libraries"
   ]
  },
  {
   "cell_type": "markdown",
   "metadata": {},
   "source": [
    "**Let us import the required libraries.**"
   ]
  },
  {
   "cell_type": "code",
   "execution_count": 1,
   "metadata": {},
   "outputs": [],
   "source": [
    "# import 'Pandas' \n",
    "import pandas as pd \n",
    "\n",
    "# import 'Numpy' \n",
    "import numpy as np\n",
    "\n",
    "# import subpackage of Matplotlib\n",
    "import matplotlib.pyplot as plt\n",
    "from matplotlib.colors import ListedColormap\n",
    "\n",
    "# import 'Seaborn' \n",
    "import seaborn as sns\n",
    "\n",
    "# to suppress warnings \n",
    "from warnings import filterwarnings\n",
    "filterwarnings('ignore')\n",
    "\n",
    "# display all columns of the dataframe\n",
    "pd.options.display.max_columns = None\n",
    "\n",
    "# display all rows of the dataframe\n",
    "pd.options.display.max_rows = None\n",
    " \n",
    "# to display the float values upto 6 decimal places     \n",
    "pd.options.display.float_format = '{:.6f}'.format\n",
    "\n",
    "# import train-test split \n",
    "from sklearn.model_selection import train_test_split\n",
    "\n",
    "# import functions to perform scaling and normalization\n",
    "from sklearn.preprocessing import StandardScaler \n",
    "from sklearn.preprocessing import MinMaxScaler\n",
    "\n",
    "# import various functions from sklearn \n",
    "from sklearn import metrics\n",
    "from sklearn.metrics import classification_report\n",
    "from sklearn.metrics import confusion_matrix\n",
    "from sklearn.metrics import roc_curve\n",
    "from sklearn.metrics import roc_auc_score\n",
    "from sklearn.neighbors import KNeighborsClassifier\n",
    "from sklearn.naive_bayes import GaussianNB\n",
    "from sklearn.model_selection import GridSearchCV\n",
    "from sklearn.model_selection import cross_val_score "
   ]
  },
  {
   "cell_type": "code",
   "execution_count": 2,
   "metadata": {},
   "outputs": [],
   "source": [
    "# set the plot size using 'rcParams'\n",
    "# once the plot size is set using 'rcParams', it sets the size of all the forthcoming plots in the file\n",
    "# pass width and height in inches to 'figure.figsize' \n",
    "plt.rcParams['figure.figsize'] = [15,8]"
   ]
  },
  {
   "cell_type": "markdown",
   "metadata": {},
   "source": [
    "<a id=\"prep\"></a>\n",
    "# 2. Data Preparation"
   ]
  },
  {
   "cell_type": "markdown",
   "metadata": {},
   "source": [
    "<a id=\"read\"></a>\n",
    "## 2.1 Read the Data"
   ]
  },
  {
   "cell_type": "markdown",
   "metadata": {},
   "source": [
    "#### Read the dataset and print the first five observations."
   ]
  },
  {
   "cell_type": "code",
   "execution_count": 3,
   "metadata": {
    "scrolled": false
   },
   "outputs": [
    {
     "data": {
      "text/html": [
       "<div>\n",
       "<style scoped>\n",
       "    .dataframe tbody tr th:only-of-type {\n",
       "        vertical-align: middle;\n",
       "    }\n",
       "\n",
       "    .dataframe tbody tr th {\n",
       "        vertical-align: top;\n",
       "    }\n",
       "\n",
       "    .dataframe thead th {\n",
       "        text-align: right;\n",
       "    }\n",
       "</style>\n",
       "<table border=\"1\" class=\"dataframe\">\n",
       "  <thead>\n",
       "    <tr style=\"text-align: right;\">\n",
       "      <th></th>\n",
       "      <th>diagnosis</th>\n",
       "      <th>radius_mean</th>\n",
       "      <th>texture_mean</th>\n",
       "      <th>perimeter_mean</th>\n",
       "      <th>area_mean</th>\n",
       "      <th>smoothness_mean</th>\n",
       "      <th>compactness_mean</th>\n",
       "      <th>concavity_mean</th>\n",
       "      <th>concave points_mean</th>\n",
       "      <th>symmetry_mean</th>\n",
       "      <th>fractal_dimension_mean</th>\n",
       "      <th>radius_se</th>\n",
       "      <th>texture_se</th>\n",
       "      <th>perimeter_se</th>\n",
       "      <th>area_se</th>\n",
       "      <th>smoothness_se</th>\n",
       "      <th>compactness_se</th>\n",
       "      <th>concavity_se</th>\n",
       "      <th>concave points_se</th>\n",
       "      <th>symmetry_se</th>\n",
       "      <th>fractal_dimension_se</th>\n",
       "      <th>radius_worst</th>\n",
       "      <th>texture_worst</th>\n",
       "      <th>perimeter_worst</th>\n",
       "      <th>area_worst</th>\n",
       "      <th>smoothness_worst</th>\n",
       "      <th>compactness_worst</th>\n",
       "      <th>concavity_worst</th>\n",
       "      <th>concave points_worst</th>\n",
       "      <th>symmetry_worst</th>\n",
       "      <th>fractal_dimension_worst</th>\n",
       "    </tr>\n",
       "  </thead>\n",
       "  <tbody>\n",
       "    <tr>\n",
       "      <th>0</th>\n",
       "      <td>M</td>\n",
       "      <td>17.990000</td>\n",
       "      <td>10.380000</td>\n",
       "      <td>122.800000</td>\n",
       "      <td>1001.000000</td>\n",
       "      <td>0.118400</td>\n",
       "      <td>0.277600</td>\n",
       "      <td>0.300100</td>\n",
       "      <td>0.147100</td>\n",
       "      <td>0.241900</td>\n",
       "      <td>0.078710</td>\n",
       "      <td>1.095000</td>\n",
       "      <td>0.905300</td>\n",
       "      <td>8.589000</td>\n",
       "      <td>153.400000</td>\n",
       "      <td>0.006399</td>\n",
       "      <td>0.049040</td>\n",
       "      <td>0.053730</td>\n",
       "      <td>0.015870</td>\n",
       "      <td>0.030030</td>\n",
       "      <td>0.006193</td>\n",
       "      <td>25.380000</td>\n",
       "      <td>17.330000</td>\n",
       "      <td>184.600000</td>\n",
       "      <td>2019.000000</td>\n",
       "      <td>0.162200</td>\n",
       "      <td>0.665600</td>\n",
       "      <td>0.711900</td>\n",
       "      <td>0.265400</td>\n",
       "      <td>0.460100</td>\n",
       "      <td>0.118900</td>\n",
       "    </tr>\n",
       "    <tr>\n",
       "      <th>1</th>\n",
       "      <td>M</td>\n",
       "      <td>20.570000</td>\n",
       "      <td>17.770000</td>\n",
       "      <td>132.900000</td>\n",
       "      <td>1326.000000</td>\n",
       "      <td>0.084740</td>\n",
       "      <td>0.078640</td>\n",
       "      <td>0.086900</td>\n",
       "      <td>0.070170</td>\n",
       "      <td>0.181200</td>\n",
       "      <td>0.056670</td>\n",
       "      <td>0.543500</td>\n",
       "      <td>0.733900</td>\n",
       "      <td>3.398000</td>\n",
       "      <td>74.080000</td>\n",
       "      <td>0.005225</td>\n",
       "      <td>0.013080</td>\n",
       "      <td>0.018600</td>\n",
       "      <td>0.013400</td>\n",
       "      <td>0.013890</td>\n",
       "      <td>0.003532</td>\n",
       "      <td>24.990000</td>\n",
       "      <td>23.410000</td>\n",
       "      <td>158.800000</td>\n",
       "      <td>1956.000000</td>\n",
       "      <td>0.123800</td>\n",
       "      <td>0.186600</td>\n",
       "      <td>0.241600</td>\n",
       "      <td>0.186000</td>\n",
       "      <td>0.275000</td>\n",
       "      <td>0.089020</td>\n",
       "    </tr>\n",
       "    <tr>\n",
       "      <th>2</th>\n",
       "      <td>M</td>\n",
       "      <td>19.690000</td>\n",
       "      <td>21.250000</td>\n",
       "      <td>130.000000</td>\n",
       "      <td>1203.000000</td>\n",
       "      <td>0.109600</td>\n",
       "      <td>0.159900</td>\n",
       "      <td>0.197400</td>\n",
       "      <td>0.127900</td>\n",
       "      <td>0.206900</td>\n",
       "      <td>0.059990</td>\n",
       "      <td>0.745600</td>\n",
       "      <td>0.786900</td>\n",
       "      <td>4.585000</td>\n",
       "      <td>94.030000</td>\n",
       "      <td>0.006150</td>\n",
       "      <td>0.040060</td>\n",
       "      <td>0.038320</td>\n",
       "      <td>0.020580</td>\n",
       "      <td>0.022500</td>\n",
       "      <td>0.004571</td>\n",
       "      <td>23.570000</td>\n",
       "      <td>25.530000</td>\n",
       "      <td>152.500000</td>\n",
       "      <td>1709.000000</td>\n",
       "      <td>0.144400</td>\n",
       "      <td>0.424500</td>\n",
       "      <td>0.450400</td>\n",
       "      <td>0.243000</td>\n",
       "      <td>0.361300</td>\n",
       "      <td>0.087580</td>\n",
       "    </tr>\n",
       "    <tr>\n",
       "      <th>3</th>\n",
       "      <td>M</td>\n",
       "      <td>11.420000</td>\n",
       "      <td>20.380000</td>\n",
       "      <td>77.580000</td>\n",
       "      <td>386.100000</td>\n",
       "      <td>0.142500</td>\n",
       "      <td>0.283900</td>\n",
       "      <td>0.241400</td>\n",
       "      <td>0.105200</td>\n",
       "      <td>0.259700</td>\n",
       "      <td>0.097440</td>\n",
       "      <td>0.495600</td>\n",
       "      <td>1.156000</td>\n",
       "      <td>3.445000</td>\n",
       "      <td>27.230000</td>\n",
       "      <td>0.009110</td>\n",
       "      <td>0.074580</td>\n",
       "      <td>0.056610</td>\n",
       "      <td>0.018670</td>\n",
       "      <td>0.059630</td>\n",
       "      <td>0.009208</td>\n",
       "      <td>14.910000</td>\n",
       "      <td>26.500000</td>\n",
       "      <td>98.870000</td>\n",
       "      <td>567.700000</td>\n",
       "      <td>0.209800</td>\n",
       "      <td>0.866300</td>\n",
       "      <td>0.686900</td>\n",
       "      <td>0.257500</td>\n",
       "      <td>0.663800</td>\n",
       "      <td>0.173000</td>\n",
       "    </tr>\n",
       "    <tr>\n",
       "      <th>4</th>\n",
       "      <td>M</td>\n",
       "      <td>20.290000</td>\n",
       "      <td>14.340000</td>\n",
       "      <td>135.100000</td>\n",
       "      <td>1297.000000</td>\n",
       "      <td>0.100300</td>\n",
       "      <td>0.132800</td>\n",
       "      <td>0.198000</td>\n",
       "      <td>0.104300</td>\n",
       "      <td>0.180900</td>\n",
       "      <td>0.058830</td>\n",
       "      <td>0.757200</td>\n",
       "      <td>0.781300</td>\n",
       "      <td>5.438000</td>\n",
       "      <td>94.440000</td>\n",
       "      <td>0.011490</td>\n",
       "      <td>0.024610</td>\n",
       "      <td>0.056880</td>\n",
       "      <td>0.018850</td>\n",
       "      <td>0.017560</td>\n",
       "      <td>0.005115</td>\n",
       "      <td>22.540000</td>\n",
       "      <td>16.670000</td>\n",
       "      <td>152.200000</td>\n",
       "      <td>1575.000000</td>\n",
       "      <td>0.137400</td>\n",
       "      <td>0.205000</td>\n",
       "      <td>0.400000</td>\n",
       "      <td>0.162500</td>\n",
       "      <td>0.236400</td>\n",
       "      <td>0.076780</td>\n",
       "    </tr>\n",
       "  </tbody>\n",
       "</table>\n",
       "</div>"
      ],
      "text/plain": [
       "  diagnosis  radius_mean  texture_mean  perimeter_mean   area_mean  \\\n",
       "0         M    17.990000     10.380000      122.800000 1001.000000   \n",
       "1         M    20.570000     17.770000      132.900000 1326.000000   \n",
       "2         M    19.690000     21.250000      130.000000 1203.000000   \n",
       "3         M    11.420000     20.380000       77.580000  386.100000   \n",
       "4         M    20.290000     14.340000      135.100000 1297.000000   \n",
       "\n",
       "   smoothness_mean  compactness_mean  concavity_mean  concave points_mean  \\\n",
       "0         0.118400          0.277600        0.300100             0.147100   \n",
       "1         0.084740          0.078640        0.086900             0.070170   \n",
       "2         0.109600          0.159900        0.197400             0.127900   \n",
       "3         0.142500          0.283900        0.241400             0.105200   \n",
       "4         0.100300          0.132800        0.198000             0.104300   \n",
       "\n",
       "   symmetry_mean  fractal_dimension_mean  radius_se  texture_se  perimeter_se  \\\n",
       "0       0.241900                0.078710   1.095000    0.905300      8.589000   \n",
       "1       0.181200                0.056670   0.543500    0.733900      3.398000   \n",
       "2       0.206900                0.059990   0.745600    0.786900      4.585000   \n",
       "3       0.259700                0.097440   0.495600    1.156000      3.445000   \n",
       "4       0.180900                0.058830   0.757200    0.781300      5.438000   \n",
       "\n",
       "     area_se  smoothness_se  compactness_se  concavity_se  concave points_se  \\\n",
       "0 153.400000       0.006399        0.049040      0.053730           0.015870   \n",
       "1  74.080000       0.005225        0.013080      0.018600           0.013400   \n",
       "2  94.030000       0.006150        0.040060      0.038320           0.020580   \n",
       "3  27.230000       0.009110        0.074580      0.056610           0.018670   \n",
       "4  94.440000       0.011490        0.024610      0.056880           0.018850   \n",
       "\n",
       "   symmetry_se  fractal_dimension_se  radius_worst  texture_worst  \\\n",
       "0     0.030030              0.006193     25.380000      17.330000   \n",
       "1     0.013890              0.003532     24.990000      23.410000   \n",
       "2     0.022500              0.004571     23.570000      25.530000   \n",
       "3     0.059630              0.009208     14.910000      26.500000   \n",
       "4     0.017560              0.005115     22.540000      16.670000   \n",
       "\n",
       "   perimeter_worst  area_worst  smoothness_worst  compactness_worst  \\\n",
       "0       184.600000 2019.000000          0.162200           0.665600   \n",
       "1       158.800000 1956.000000          0.123800           0.186600   \n",
       "2       152.500000 1709.000000          0.144400           0.424500   \n",
       "3        98.870000  567.700000          0.209800           0.866300   \n",
       "4       152.200000 1575.000000          0.137400           0.205000   \n",
       "\n",
       "   concavity_worst  concave points_worst  symmetry_worst  \\\n",
       "0         0.711900              0.265400        0.460100   \n",
       "1         0.241600              0.186000        0.275000   \n",
       "2         0.450400              0.243000        0.361300   \n",
       "3         0.686900              0.257500        0.663800   \n",
       "4         0.400000              0.162500        0.236400   \n",
       "\n",
       "   fractal_dimension_worst  \n",
       "0                 0.118900  \n",
       "1                 0.089020  \n",
       "2                 0.087580  \n",
       "3                 0.173000  \n",
       "4                 0.076780  "
      ]
     },
     "execution_count": 3,
     "metadata": {},
     "output_type": "execute_result"
    }
   ],
   "source": [
    "# load the csv file\n",
    "# store the data in 'df_cancer'\n",
    "df_cancer = pd.read_csv('bcancer.csv')\n",
    "\n",
    "# display first five observations using head()\n",
    "df_cancer.head()"
   ]
  },
  {
   "cell_type": "markdown",
   "metadata": {},
   "source": [
    "**Let us now see the number of variables and observations in the data.**"
   ]
  },
  {
   "cell_type": "code",
   "execution_count": 4,
   "metadata": {},
   "outputs": [
    {
     "data": {
      "text/plain": [
       "(569, 31)"
      ]
     },
     "execution_count": 4,
     "metadata": {},
     "output_type": "execute_result"
    }
   ],
   "source": [
    "# use 'shape' to check the dimension of data\n",
    "df_cancer.shape"
   ]
  },
  {
   "cell_type": "markdown",
   "metadata": {},
   "source": [
    "**Interpretation:** The data has 569 observations and 31 variables."
   ]
  },
  {
   "cell_type": "markdown",
   "metadata": {},
   "source": [
    "<a id=\"dtype\"></a>\n",
    "## 2.2 Check the Data Type"
   ]
  },
  {
   "cell_type": "markdown",
   "metadata": {},
   "source": [
    "**Check the data type of each variable. If the data type is not as per the data definition, change the data type.**"
   ]
  },
  {
   "cell_type": "code",
   "execution_count": 5,
   "metadata": {
    "scrolled": false
   },
   "outputs": [
    {
     "data": {
      "text/plain": [
       "diagnosis                   object\n",
       "radius_mean                float64\n",
       "texture_mean               float64\n",
       "perimeter_mean             float64\n",
       "area_mean                  float64\n",
       "smoothness_mean            float64\n",
       "compactness_mean           float64\n",
       "concavity_mean             float64\n",
       "concave points_mean        float64\n",
       "symmetry_mean              float64\n",
       "fractal_dimension_mean     float64\n",
       "radius_se                  float64\n",
       "texture_se                 float64\n",
       "perimeter_se               float64\n",
       "area_se                    float64\n",
       "smoothness_se              float64\n",
       "compactness_se             float64\n",
       "concavity_se               float64\n",
       "concave points_se          float64\n",
       "symmetry_se                float64\n",
       "fractal_dimension_se       float64\n",
       "radius_worst               float64\n",
       "texture_worst              float64\n",
       "perimeter_worst            float64\n",
       "area_worst                 float64\n",
       "smoothness_worst           float64\n",
       "compactness_worst          float64\n",
       "concavity_worst            float64\n",
       "concave points_worst       float64\n",
       "symmetry_worst             float64\n",
       "fractal_dimension_worst    float64\n",
       "dtype: object"
      ]
     },
     "execution_count": 5,
     "metadata": {},
     "output_type": "execute_result"
    }
   ],
   "source": [
    "# use 'dtypes' to check the data type of a variable\n",
    "df_cancer.dtypes"
   ]
  },
  {
   "cell_type": "markdown",
   "metadata": {},
   "source": [
    "**Interpretation:** All the indeppendent variables are numeric."
   ]
  },
  {
   "cell_type": "markdown",
   "metadata": {},
   "source": [
    "<a id=\"dist\"></a>\n",
    "## 2.3 Distribution of Variables"
   ]
  },
  {
   "cell_type": "markdown",
   "metadata": {},
   "source": [
    "**Distribution of numeric independent variables.**"
   ]
  },
  {
   "cell_type": "code",
   "execution_count": 6,
   "metadata": {},
   "outputs": [
    {
     "data": {
      "image/png": "[encoded data removed]",
      "text/plain": [
       "<Figure size 1080x576 with 30 Axes>"
      ]
     },
     "metadata": {
      "needs_background": "light"
     },
     "output_type": "display_data"
    }
   ],
   "source": [
    "# for the independent numeric variables, we plot the histogram to check the distribution of the variables\n",
    "# Note: the hist() function considers the numeric variables only, by default\n",
    "# we drop the target variable using drop()\n",
    "# 'axis=1' drops the specified column\n",
    "df_cancer.drop('diagnosis', axis = 1).hist()\n",
    "\n",
    "# adjust the subplots\n",
    "plt.tight_layout()\n",
    "\n",
    "# display the plot\n",
    "plt.show()"
   ]
  },
  {
   "cell_type": "markdown",
   "metadata": {},
   "source": [
    "#### Distribution of dependent variable."
   ]
  },
  {
   "cell_type": "code",
   "execution_count": 7,
   "metadata": {
    "scrolled": false
   },
   "outputs": [
    {
     "data": {
      "image/png": "[encoded data removed]",
      "text/plain": [
       "<Figure size 1080x576 with 1 Axes>"
      ]
     },
     "metadata": {
      "needs_background": "light"
     },
     "output_type": "display_data"
    }
   ],
   "source": [
    "# consider only the target variable\n",
    "df_target = df_cancer['diagnosis'].copy()\n",
    "\n",
    "# get counts of 0's and 1's in the 'diagnosis' variable\n",
    "df_target.value_counts()\n",
    "\n",
    "# plot the countplot of the variable 'diagnosis'\n",
    "sns.countplot(x = df_target)\n",
    "\n",
    "# use below code to print the values in the graph\n",
    "# 'x' and 'y' gives position of the text\n",
    "# 's' is the text \n",
    "plt.text(x = -0.05, y = df_target.value_counts()[1] + 1, s = str(round((df_target.value_counts()[1])*100/len(df_target),2)) + '%')\n",
    "plt.text(x = 0.95, y = df_target.value_counts()[0] +1, s = str(round((df_target.value_counts()[0])*100/len(df_target),2)) + '%')\n",
    "\n",
    "# add plot and axes labels\n",
    "# set text size using 'fontsize'\n",
    "plt.title('Count Plot for Target Variable (Diagnosis)', fontsize = 15)\n",
    "plt.xlabel('Target Variable', fontsize = 15)\n",
    "plt.ylabel('Count', fontsize = 15)\n",
    "\n",
    "# to show the plot\n",
    "plt.show()"
   ]
  },
  {
   "cell_type": "markdown",
   "metadata": {},
   "source": [
    "**Interpretation:** The above plot shows that there is not that much imbalance in the target variable."
   ]
  },
  {
   "cell_type": "markdown",
   "metadata": {},
   "source": [
    "<a id=\"null\"></a>\n",
    "## 2.4 Missing Value Treatment"
   ]
  },
  {
   "cell_type": "markdown",
   "metadata": {},
   "source": [
    "First run a check for the presence of missing values and their percentage for each column. Then choose the right approach to treat them."
   ]
  },
  {
   "cell_type": "code",
   "execution_count": 8,
   "metadata": {},
   "outputs": [
    {
     "data": {
      "text/html": [
       "<div>\n",
       "<style scoped>\n",
       "    .dataframe tbody tr th:only-of-type {\n",
       "        vertical-align: middle;\n",
       "    }\n",
       "\n",
       "    .dataframe tbody tr th {\n",
       "        vertical-align: top;\n",
       "    }\n",
       "\n",
       "    .dataframe thead th {\n",
       "        text-align: right;\n",
       "    }\n",
       "</style>\n",
       "<table border=\"1\" class=\"dataframe\">\n",
       "  <thead>\n",
       "    <tr style=\"text-align: right;\">\n",
       "      <th></th>\n",
       "      <th>Total</th>\n",
       "      <th>Percentage of Missing Values</th>\n",
       "    </tr>\n",
       "  </thead>\n",
       "  <tbody>\n",
       "    <tr>\n",
       "      <th>fractal_dimension_worst</th>\n",
       "      <td>0</td>\n",
       "      <td>0.000000</td>\n",
       "    </tr>\n",
       "    <tr>\n",
       "      <th>area_se</th>\n",
       "      <td>0</td>\n",
       "      <td>0.000000</td>\n",
       "    </tr>\n",
       "    <tr>\n",
       "      <th>radius_mean</th>\n",
       "      <td>0</td>\n",
       "      <td>0.000000</td>\n",
       "    </tr>\n",
       "    <tr>\n",
       "      <th>texture_mean</th>\n",
       "      <td>0</td>\n",
       "      <td>0.000000</td>\n",
       "    </tr>\n",
       "    <tr>\n",
       "      <th>perimeter_mean</th>\n",
       "      <td>0</td>\n",
       "      <td>0.000000</td>\n",
       "    </tr>\n",
       "    <tr>\n",
       "      <th>area_mean</th>\n",
       "      <td>0</td>\n",
       "      <td>0.000000</td>\n",
       "    </tr>\n",
       "    <tr>\n",
       "      <th>smoothness_mean</th>\n",
       "      <td>0</td>\n",
       "      <td>0.000000</td>\n",
       "    </tr>\n",
       "    <tr>\n",
       "      <th>compactness_mean</th>\n",
       "      <td>0</td>\n",
       "      <td>0.000000</td>\n",
       "    </tr>\n",
       "    <tr>\n",
       "      <th>concavity_mean</th>\n",
       "      <td>0</td>\n",
       "      <td>0.000000</td>\n",
       "    </tr>\n",
       "    <tr>\n",
       "      <th>concave points_mean</th>\n",
       "      <td>0</td>\n",
       "      <td>0.000000</td>\n",
       "    </tr>\n",
       "    <tr>\n",
       "      <th>symmetry_mean</th>\n",
       "      <td>0</td>\n",
       "      <td>0.000000</td>\n",
       "    </tr>\n",
       "    <tr>\n",
       "      <th>fractal_dimension_mean</th>\n",
       "      <td>0</td>\n",
       "      <td>0.000000</td>\n",
       "    </tr>\n",
       "    <tr>\n",
       "      <th>radius_se</th>\n",
       "      <td>0</td>\n",
       "      <td>0.000000</td>\n",
       "    </tr>\n",
       "    <tr>\n",
       "      <th>texture_se</th>\n",
       "      <td>0</td>\n",
       "      <td>0.000000</td>\n",
       "    </tr>\n",
       "    <tr>\n",
       "      <th>perimeter_se</th>\n",
       "      <td>0</td>\n",
       "      <td>0.000000</td>\n",
       "    </tr>\n",
       "    <tr>\n",
       "      <th>smoothness_se</th>\n",
       "      <td>0</td>\n",
       "      <td>0.000000</td>\n",
       "    </tr>\n",
       "    <tr>\n",
       "      <th>symmetry_worst</th>\n",
       "      <td>0</td>\n",
       "      <td>0.000000</td>\n",
       "    </tr>\n",
       "    <tr>\n",
       "      <th>compactness_se</th>\n",
       "      <td>0</td>\n",
       "      <td>0.000000</td>\n",
       "    </tr>\n",
       "    <tr>\n",
       "      <th>concavity_se</th>\n",
       "      <td>0</td>\n",
       "      <td>0.000000</td>\n",
       "    </tr>\n",
       "    <tr>\n",
       "      <th>concave points_se</th>\n",
       "      <td>0</td>\n",
       "      <td>0.000000</td>\n",
       "    </tr>\n",
       "    <tr>\n",
       "      <th>symmetry_se</th>\n",
       "      <td>0</td>\n",
       "      <td>0.000000</td>\n",
       "    </tr>\n",
       "    <tr>\n",
       "      <th>fractal_dimension_se</th>\n",
       "      <td>0</td>\n",
       "      <td>0.000000</td>\n",
       "    </tr>\n",
       "    <tr>\n",
       "      <th>radius_worst</th>\n",
       "      <td>0</td>\n",
       "      <td>0.000000</td>\n",
       "    </tr>\n",
       "    <tr>\n",
       "      <th>texture_worst</th>\n",
       "      <td>0</td>\n",
       "      <td>0.000000</td>\n",
       "    </tr>\n",
       "    <tr>\n",
       "      <th>perimeter_worst</th>\n",
       "      <td>0</td>\n",
       "      <td>0.000000</td>\n",
       "    </tr>\n",
       "    <tr>\n",
       "      <th>area_worst</th>\n",
       "      <td>0</td>\n",
       "      <td>0.000000</td>\n",
       "    </tr>\n",
       "    <tr>\n",
       "      <th>smoothness_worst</th>\n",
       "      <td>0</td>\n",
       "      <td>0.000000</td>\n",
       "    </tr>\n",
       "    <tr>\n",
       "      <th>compactness_worst</th>\n",
       "      <td>0</td>\n",
       "      <td>0.000000</td>\n",
       "    </tr>\n",
       "    <tr>\n",
       "      <th>concavity_worst</th>\n",
       "      <td>0</td>\n",
       "      <td>0.000000</td>\n",
       "    </tr>\n",
       "    <tr>\n",
       "      <th>concave points_worst</th>\n",
       "      <td>0</td>\n",
       "      <td>0.000000</td>\n",
       "    </tr>\n",
       "    <tr>\n",
       "      <th>diagnosis</th>\n",
       "      <td>0</td>\n",
       "      <td>0.000000</td>\n",
       "    </tr>\n",
       "  </tbody>\n",
       "</table>\n",
       "</div>"
      ],
      "text/plain": [
       "                         Total  Percentage of Missing Values\n",
       "fractal_dimension_worst      0                      0.000000\n",
       "area_se                      0                      0.000000\n",
       "radius_mean                  0                      0.000000\n",
       "texture_mean                 0                      0.000000\n",
       "perimeter_mean               0                      0.000000\n",
       "area_mean                    0                      0.000000\n",
       "smoothness_mean              0                      0.000000\n",
       "compactness_mean             0                      0.000000\n",
       "concavity_mean               0                      0.000000\n",
       "concave points_mean          0                      0.000000\n",
       "symmetry_mean                0                      0.000000\n",
       "fractal_dimension_mean       0                      0.000000\n",
       "radius_se                    0                      0.000000\n",
       "texture_se                   0                      0.000000\n",
       "perimeter_se                 0                      0.000000\n",
       "smoothness_se                0                      0.000000\n",
       "symmetry_worst               0                      0.000000\n",
       "compactness_se               0                      0.000000\n",
       "concavity_se                 0                      0.000000\n",
       "concave points_se            0                      0.000000\n",
       "symmetry_se                  0                      0.000000\n",
       "fractal_dimension_se         0                      0.000000\n",
       "radius_worst                 0                      0.000000\n",
       "texture_worst                0                      0.000000\n",
       "perimeter_worst              0                      0.000000\n",
       "area_worst                   0                      0.000000\n",
       "smoothness_worst             0                      0.000000\n",
       "compactness_worst            0                      0.000000\n",
       "concavity_worst              0                      0.000000\n",
       "concave points_worst         0                      0.000000\n",
       "diagnosis                    0                      0.000000"
      ]
     },
     "execution_count": 8,
     "metadata": {},
     "output_type": "execute_result"
    }
   ],
   "source": [
    "# sort the variables on the basis of total null values in the variable\n",
    "# 'isnull().sum()' returns the number of missing values in each variable\n",
    "# 'ascending = False' sorts values in the descending order\n",
    "# the variable with highest number of missing values will appear first\n",
    "Total = df_cancer.isnull().sum().sort_values(ascending=False)          \n",
    "\n",
    "# calculate percentage of missing values\n",
    "# 'ascending = False' sorts values in the descending order\n",
    "# the variable with highest percentage of missing values will appear first\n",
    "Percent = (df_cancer.isnull().sum()*100/df_cancer.isnull().count()).sort_values(ascending=False)   \n",
    "\n",
    "# concat the 'Total' and 'Percent' columns using 'concat' function\n",
    "# pass a list of column names in parameter 'keys' \n",
    "# 'axis = 1' concats along the columns\n",
    "missing_data = pd.concat([Total, Percent], axis = 1, keys = ['Total', 'Percentage of Missing Values'])    \n",
    "missing_data"
   ]
  },
  {
   "cell_type": "markdown",
   "metadata": {},
   "source": [
    "**Interpretation:** The above output shows that there are no missing values in the data."
   ]
  },
  {
   "cell_type": "markdown",
   "metadata": {},
   "source": [
    "#### Split the dependent and independent variables."
   ]
  },
  {
   "cell_type": "code",
   "execution_count": 9,
   "metadata": {},
   "outputs": [],
   "source": [
    "# store the target variable 'diagnosis' in a dataframe 'df_target'\n",
    "df_target = df_cancer['diagnosis']\n",
    "\n",
    "# store all the independent variables in a dataframe 'df_feature' \n",
    "# drop the column 'diagnosis' using drop()\n",
    "# 'axis = 1' drops the specified column\n",
    "df_feature = df_cancer.drop('diagnosis', axis = 1)"
   ]
  },
  {
   "cell_type": "code",
   "execution_count": 10,
   "metadata": {},
   "outputs": [],
   "source": [
    "# if the value in the target variable is 'B' then replace it with 0 else with 1\n",
    "# i.e. set 0 for benign (negative class)\n",
    "for i in range(len(df_target)):\n",
    "    if df_target[i] == 'B':\n",
    "        df_target[i] = 0\n",
    "    else:\n",
    "        df_target[i] = 1\n",
    "        \n",
    "# change the datatype of the target variable to integer\n",
    "df_target = df_target.astype('int')"
   ]
  },
  {
   "cell_type": "markdown",
   "metadata": {},
   "source": [
    "#### Filter numerical and categorical variables."
   ]
  },
  {
   "cell_type": "code",
   "execution_count": 11,
   "metadata": {},
   "outputs": [
    {
     "data": {
      "text/plain": [
       "Index(['radius_mean', 'texture_mean', 'perimeter_mean', 'area_mean',\n",
       "       'smoothness_mean', 'compactness_mean', 'concavity_mean',\n",
       "       'concave points_mean', 'symmetry_mean', 'fractal_dimension_mean',\n",
       "       'radius_se', 'texture_se', 'perimeter_se', 'area_se', 'smoothness_se',\n",
       "       'compactness_se', 'concavity_se', 'concave points_se', 'symmetry_se',\n",
       "       'fractal_dimension_se', 'radius_worst', 'texture_worst',\n",
       "       'perimeter_worst', 'area_worst', 'smoothness_worst',\n",
       "       'compactness_worst', 'concavity_worst', 'concave points_worst',\n",
       "       'symmetry_worst', 'fractal_dimension_worst'],\n",
       "      dtype='object')"
      ]
     },
     "execution_count": 11,
     "metadata": {},
     "output_type": "execute_result"
    }
   ],
   "source": [
    "# filter the numerical features in the dataset\n",
    "# 'select_dtypes' is used to select the variables with given data type\n",
    "# 'include = [np.number]' will include all the numerical variables\n",
    "df_feature = df_feature.select_dtypes(include = [np.number])\n",
    "\n",
    "# display numerical features\n",
    "df_feature.columns"
   ]
  },
  {
   "cell_type": "markdown",
   "metadata": {},
   "source": [
    "#### Create a generalized function to calculate the performance metrics for the test set."
   ]
  },
  {
   "cell_type": "code",
   "execution_count": 12,
   "metadata": {},
   "outputs": [],
   "source": [
    "# create a generalized function to calculate the performance metrics values for test set\n",
    "def get_test_report(model, test_data):\n",
    "    \n",
    "    # for test set:\n",
    "    # test_pred: prediction made by the model on the test dataset 'X_test'\n",
    "    # y_test: actual values of the target variable for the test dataset\n",
    "\n",
    "    # predict the output of the target variable from the test data \n",
    "    test_pred = model.predict(test_data)\n",
    "\n",
    "    # return the classification report for test data\n",
    "    return(classification_report(y_test, test_pred))"
   ]
  },
  {
   "cell_type": "markdown",
   "metadata": {},
   "source": [
    "#### Define a function to plot the confusion matrix."
   ]
  },
  {
   "cell_type": "code",
   "execution_count": 13,
   "metadata": {
    "colab": {},
    "colab_type": "code",
    "id": "Av39nL7SebpS",
    "outputId": "eb72d174-cce1-49f2-abcc-b8a6111b2008"
   },
   "outputs": [],
   "source": [
    "# define a to plot a confusion matrix for the model\n",
    "def plot_confusion_matrix(model, test_data):\n",
    "    \n",
    "    # predict the target values using X_test\n",
    "    y_pred = model.predict(test_data)\n",
    "    \n",
    "    # create a confusion matrix\n",
    "    # pass the actual and predicted target values to the confusion_matrix()\n",
    "    cm = confusion_matrix(y_test, y_pred)\n",
    "\n",
    "    # label the confusion matrix  \n",
    "    # pass the matrix as 'data'\n",
    "    # pass the required column names to the parameter, 'columns'\n",
    "    # pass the required row names to the parameter, 'index'\n",
    "    conf_matrix = pd.DataFrame(data = cm,columns = ['Predicted:0','Predicted:1'], index = ['Actual:0','Actual:1'])\n",
    "\n",
    "    # plot a heatmap to visualize the confusion matrix\n",
    "    # 'annot' prints the value of each grid \n",
    "    # 'fmt = d' returns the integer value in each grid\n",
    "    # 'cmap' assigns color to each grid\n",
    "    # as we do not require different colors for each grid in the heatmap,\n",
    "    # use 'ListedColormap' to assign the specified color to the grid\n",
    "    # 'cbar = False' will not return the color bar to the right side of the heatmap\n",
    "    # 'linewidths' assigns the width to the line that divides each grid\n",
    "    # 'annot_kws = {'size':25})' assigns the font size of the annotated text \n",
    "    sns.heatmap(conf_matrix, annot = True, fmt = 'd', cmap = ListedColormap(['lightskyblue']), cbar = False, \n",
    "                linewidths = 0.1, annot_kws = {'size':25})\n",
    "\n",
    "    # set the font size of x-axis ticks using 'fontsize'\n",
    "    plt.xticks(fontsize = 20)\n",
    "\n",
    "    # set the font size of y-axis ticks using 'fontsize'\n",
    "    plt.yticks(fontsize = 20)\n",
    "\n",
    "    # display the plot\n",
    "    plt.show()"
   ]
  },
  {
   "cell_type": "markdown",
   "metadata": {},
   "source": [
    "#### Define a function to plot the ROC curve."
   ]
  },
  {
   "cell_type": "code",
   "execution_count": 14,
   "metadata": {},
   "outputs": [],
   "source": [
    "# define a function to plot the ROC curve and print the ROC-AUC score\n",
    "def plot_roc(model, test_data):\n",
    "    \n",
    "    # predict the probability of target variable using X_test\n",
    "    # consider the probability of positive class by subsetting with '[:,1]'\n",
    "    y_pred_prob = model.predict_proba(test_data)[:,1]\n",
    "    \n",
    "    # the roc_curve() returns the values for false positive rate, true positive rate and threshold\n",
    "    # pass the actual target values and predicted probabilities to the function\n",
    "    fpr, tpr, thresholds = roc_curve(y_test, y_pred_prob)\n",
    "\n",
    "    # plot the ROC curve\n",
    "    plt.plot(fpr, tpr)\n",
    "\n",
    "    # set limits for x and y axes\n",
    "    plt.xlim([0.0, 1.0])\n",
    "    plt.ylim([0.0, 1.0])\n",
    "\n",
    "    # plot the straight line showing worst prediction for the model\n",
    "    plt.plot([0, 1], [0, 1],'r--')\n",
    "\n",
    "    # add plot and axes labels\n",
    "    # set text size using 'fontsize'\n",
    "    plt.title('ROC curve for Cancer Prediction Classifier', fontsize = 15)\n",
    "    plt.xlabel('False positive rate (1-Specificity)', fontsize = 15)\n",
    "    plt.ylabel('True positive rate (Sensitivity)', fontsize = 15)\n",
    "\n",
    "    # add the AUC score to the plot\n",
    "    # 'x' and 'y' gives position of the text\n",
    "    # 's' is the text \n",
    "    # use round() to round-off the AUC score upto 4 digits\n",
    "    plt.text(x = 0.02, y = 0.9, s = ('AUC Score:',round(roc_auc_score(y_test, y_pred_prob),4)))\n",
    "\n",
    "    # plot the grid\n",
    "    plt.grid(True)"
   ]
  },
  {
   "cell_type": "markdown",
   "metadata": {},
   "source": [
    "<a id=\"knn\"></a>\n",
    "# 3. K Nearest Neighbors (KNN)"
   ]
  },
  {
   "cell_type": "markdown",
   "metadata": {},
   "source": [
    "KNN is a classification machine learning algorithm used to identify the class of the observation. This algorithm search for `K` nearest points to determine the class of an observation. To identify the nearest points, it considers the distance metrics like `Euclidean`, `Manhattan`, `Chebyshev`, `Hamming`, and so on."
   ]
  },
  {
   "cell_type": "markdown",
   "metadata": {},
   "source": [
    "#### Let us normalize the data "
   ]
  },
  {
   "cell_type": "markdown",
   "metadata": {},
   "source": [
    "We scale the variables to get all the variables in the same range. With this, we can avoid a problem in which some features come to dominate solely because they tend to have larger values than others."
   ]
  },
  {
   "cell_type": "code",
   "execution_count": 15,
   "metadata": {
    "scrolled": false
   },
   "outputs": [
    {
     "data": {
      "text/html": [
       "<div>\n",
       "<style scoped>\n",
       "    .dataframe tbody tr th:only-of-type {\n",
       "        vertical-align: middle;\n",
       "    }\n",
       "\n",
       "    .dataframe tbody tr th {\n",
       "        vertical-align: top;\n",
       "    }\n",
       "\n",
       "    .dataframe thead th {\n",
       "        text-align: right;\n",
       "    }\n",
       "</style>\n",
       "<table border=\"1\" class=\"dataframe\">\n",
       "  <thead>\n",
       "    <tr style=\"text-align: right;\">\n",
       "      <th></th>\n",
       "      <th>radius_mean</th>\n",
       "      <th>texture_mean</th>\n",
       "      <th>perimeter_mean</th>\n",
       "      <th>area_mean</th>\n",
       "      <th>smoothness_mean</th>\n",
       "      <th>compactness_mean</th>\n",
       "      <th>concavity_mean</th>\n",
       "      <th>concave points_mean</th>\n",
       "      <th>symmetry_mean</th>\n",
       "      <th>fractal_dimension_mean</th>\n",
       "      <th>radius_se</th>\n",
       "      <th>texture_se</th>\n",
       "      <th>perimeter_se</th>\n",
       "      <th>area_se</th>\n",
       "      <th>smoothness_se</th>\n",
       "      <th>compactness_se</th>\n",
       "      <th>concavity_se</th>\n",
       "      <th>concave points_se</th>\n",
       "      <th>symmetry_se</th>\n",
       "      <th>fractal_dimension_se</th>\n",
       "      <th>radius_worst</th>\n",
       "      <th>texture_worst</th>\n",
       "      <th>perimeter_worst</th>\n",
       "      <th>area_worst</th>\n",
       "      <th>smoothness_worst</th>\n",
       "      <th>compactness_worst</th>\n",
       "      <th>concavity_worst</th>\n",
       "      <th>concave points_worst</th>\n",
       "      <th>symmetry_worst</th>\n",
       "      <th>fractal_dimension_worst</th>\n",
       "    </tr>\n",
       "  </thead>\n",
       "  <tbody>\n",
       "    <tr>\n",
       "      <th>0</th>\n",
       "      <td>0.521037</td>\n",
       "      <td>0.022658</td>\n",
       "      <td>0.545989</td>\n",
       "      <td>0.363733</td>\n",
       "      <td>0.593753</td>\n",
       "      <td>0.792037</td>\n",
       "      <td>0.703140</td>\n",
       "      <td>0.731113</td>\n",
       "      <td>0.686364</td>\n",
       "      <td>0.605518</td>\n",
       "      <td>0.356147</td>\n",
       "      <td>0.120469</td>\n",
       "      <td>0.369034</td>\n",
       "      <td>0.273811</td>\n",
       "      <td>0.159296</td>\n",
       "      <td>0.351398</td>\n",
       "      <td>0.135682</td>\n",
       "      <td>0.300625</td>\n",
       "      <td>0.311645</td>\n",
       "      <td>0.183042</td>\n",
       "      <td>0.620776</td>\n",
       "      <td>0.141525</td>\n",
       "      <td>0.668310</td>\n",
       "      <td>0.450698</td>\n",
       "      <td>0.601136</td>\n",
       "      <td>0.619292</td>\n",
       "      <td>0.568610</td>\n",
       "      <td>0.912027</td>\n",
       "      <td>0.598462</td>\n",
       "      <td>0.418864</td>\n",
       "    </tr>\n",
       "    <tr>\n",
       "      <th>1</th>\n",
       "      <td>0.643144</td>\n",
       "      <td>0.272574</td>\n",
       "      <td>0.615783</td>\n",
       "      <td>0.501591</td>\n",
       "      <td>0.289880</td>\n",
       "      <td>0.181768</td>\n",
       "      <td>0.203608</td>\n",
       "      <td>0.348757</td>\n",
       "      <td>0.379798</td>\n",
       "      <td>0.141323</td>\n",
       "      <td>0.156437</td>\n",
       "      <td>0.082589</td>\n",
       "      <td>0.124440</td>\n",
       "      <td>0.125660</td>\n",
       "      <td>0.119387</td>\n",
       "      <td>0.081323</td>\n",
       "      <td>0.046970</td>\n",
       "      <td>0.253836</td>\n",
       "      <td>0.084539</td>\n",
       "      <td>0.091110</td>\n",
       "      <td>0.606901</td>\n",
       "      <td>0.303571</td>\n",
       "      <td>0.539818</td>\n",
       "      <td>0.435214</td>\n",
       "      <td>0.347553</td>\n",
       "      <td>0.154563</td>\n",
       "      <td>0.192971</td>\n",
       "      <td>0.639175</td>\n",
       "      <td>0.233590</td>\n",
       "      <td>0.222878</td>\n",
       "    </tr>\n",
       "    <tr>\n",
       "      <th>2</th>\n",
       "      <td>0.601496</td>\n",
       "      <td>0.390260</td>\n",
       "      <td>0.595743</td>\n",
       "      <td>0.449417</td>\n",
       "      <td>0.514309</td>\n",
       "      <td>0.431017</td>\n",
       "      <td>0.462512</td>\n",
       "      <td>0.635686</td>\n",
       "      <td>0.509596</td>\n",
       "      <td>0.211247</td>\n",
       "      <td>0.229622</td>\n",
       "      <td>0.094303</td>\n",
       "      <td>0.180370</td>\n",
       "      <td>0.162922</td>\n",
       "      <td>0.150831</td>\n",
       "      <td>0.283955</td>\n",
       "      <td>0.096768</td>\n",
       "      <td>0.389847</td>\n",
       "      <td>0.205690</td>\n",
       "      <td>0.127006</td>\n",
       "      <td>0.556386</td>\n",
       "      <td>0.360075</td>\n",
       "      <td>0.508442</td>\n",
       "      <td>0.374508</td>\n",
       "      <td>0.483590</td>\n",
       "      <td>0.385375</td>\n",
       "      <td>0.359744</td>\n",
       "      <td>0.835052</td>\n",
       "      <td>0.403706</td>\n",
       "      <td>0.213433</td>\n",
       "    </tr>\n",
       "    <tr>\n",
       "      <th>3</th>\n",
       "      <td>0.210090</td>\n",
       "      <td>0.360839</td>\n",
       "      <td>0.233501</td>\n",
       "      <td>0.102906</td>\n",
       "      <td>0.811321</td>\n",
       "      <td>0.811361</td>\n",
       "      <td>0.565604</td>\n",
       "      <td>0.522863</td>\n",
       "      <td>0.776263</td>\n",
       "      <td>1.000000</td>\n",
       "      <td>0.139091</td>\n",
       "      <td>0.175875</td>\n",
       "      <td>0.126655</td>\n",
       "      <td>0.038155</td>\n",
       "      <td>0.251453</td>\n",
       "      <td>0.543215</td>\n",
       "      <td>0.142955</td>\n",
       "      <td>0.353665</td>\n",
       "      <td>0.728148</td>\n",
       "      <td>0.287205</td>\n",
       "      <td>0.248310</td>\n",
       "      <td>0.385928</td>\n",
       "      <td>0.241347</td>\n",
       "      <td>0.094008</td>\n",
       "      <td>0.915472</td>\n",
       "      <td>0.814012</td>\n",
       "      <td>0.548642</td>\n",
       "      <td>0.884880</td>\n",
       "      <td>1.000000</td>\n",
       "      <td>0.773711</td>\n",
       "    </tr>\n",
       "    <tr>\n",
       "      <th>4</th>\n",
       "      <td>0.629893</td>\n",
       "      <td>0.156578</td>\n",
       "      <td>0.630986</td>\n",
       "      <td>0.489290</td>\n",
       "      <td>0.430351</td>\n",
       "      <td>0.347893</td>\n",
       "      <td>0.463918</td>\n",
       "      <td>0.518390</td>\n",
       "      <td>0.378283</td>\n",
       "      <td>0.186816</td>\n",
       "      <td>0.233822</td>\n",
       "      <td>0.093065</td>\n",
       "      <td>0.220563</td>\n",
       "      <td>0.163688</td>\n",
       "      <td>0.332359</td>\n",
       "      <td>0.167918</td>\n",
       "      <td>0.143636</td>\n",
       "      <td>0.357075</td>\n",
       "      <td>0.136179</td>\n",
       "      <td>0.145800</td>\n",
       "      <td>0.519744</td>\n",
       "      <td>0.123934</td>\n",
       "      <td>0.506948</td>\n",
       "      <td>0.341575</td>\n",
       "      <td>0.437364</td>\n",
       "      <td>0.172415</td>\n",
       "      <td>0.319489</td>\n",
       "      <td>0.558419</td>\n",
       "      <td>0.157500</td>\n",
       "      <td>0.142595</td>\n",
       "    </tr>\n",
       "  </tbody>\n",
       "</table>\n",
       "</div>"
      ],
      "text/plain": [
       "   radius_mean  texture_mean  perimeter_mean  area_mean  smoothness_mean  \\\n",
       "0     0.521037      0.022658        0.545989   0.363733         0.593753   \n",
       "1     0.643144      0.272574        0.615783   0.501591         0.289880   \n",
       "2     0.601496      0.390260        0.595743   0.449417         0.514309   \n",
       "3     0.210090      0.360839        0.233501   0.102906         0.811321   \n",
       "4     0.629893      0.156578        0.630986   0.489290         0.430351   \n",
       "\n",
       "   compactness_mean  concavity_mean  concave points_mean  symmetry_mean  \\\n",
       "0          0.792037        0.703140             0.731113       0.686364   \n",
       "1          0.181768        0.203608             0.348757       0.379798   \n",
       "2          0.431017        0.462512             0.635686       0.509596   \n",
       "3          0.811361        0.565604             0.522863       0.776263   \n",
       "4          0.347893        0.463918             0.518390       0.378283   \n",
       "\n",
       "   fractal_dimension_mean  radius_se  texture_se  perimeter_se  area_se  \\\n",
       "0                0.605518   0.356147    0.120469      0.369034 0.273811   \n",
       "1                0.141323   0.156437    0.082589      0.124440 0.125660   \n",
       "2                0.211247   0.229622    0.094303      0.180370 0.162922   \n",
       "3                1.000000   0.139091    0.175875      0.126655 0.038155   \n",
       "4                0.186816   0.233822    0.093065      0.220563 0.163688   \n",
       "\n",
       "   smoothness_se  compactness_se  concavity_se  concave points_se  \\\n",
       "0       0.159296        0.351398      0.135682           0.300625   \n",
       "1       0.119387        0.081323      0.046970           0.253836   \n",
       "2       0.150831        0.283955      0.096768           0.389847   \n",
       "3       0.251453        0.543215      0.142955           0.353665   \n",
       "4       0.332359        0.167918      0.143636           0.357075   \n",
       "\n",
       "   symmetry_se  fractal_dimension_se  radius_worst  texture_worst  \\\n",
       "0     0.311645              0.183042      0.620776       0.141525   \n",
       "1     0.084539              0.091110      0.606901       0.303571   \n",
       "2     0.205690              0.127006      0.556386       0.360075   \n",
       "3     0.728148              0.287205      0.248310       0.385928   \n",
       "4     0.136179              0.145800      0.519744       0.123934   \n",
       "\n",
       "   perimeter_worst  area_worst  smoothness_worst  compactness_worst  \\\n",
       "0         0.668310    0.450698          0.601136           0.619292   \n",
       "1         0.539818    0.435214          0.347553           0.154563   \n",
       "2         0.508442    0.374508          0.483590           0.385375   \n",
       "3         0.241347    0.094008          0.915472           0.814012   \n",
       "4         0.506948    0.341575          0.437364           0.172415   \n",
       "\n",
       "   concavity_worst  concave points_worst  symmetry_worst  \\\n",
       "0         0.568610              0.912027        0.598462   \n",
       "1         0.192971              0.639175        0.233590   \n",
       "2         0.359744              0.835052        0.403706   \n",
       "3         0.548642              0.884880        1.000000   \n",
       "4         0.319489              0.558419        0.157500   \n",
       "\n",
       "   fractal_dimension_worst  \n",
       "0                 0.418864  \n",
       "1                 0.222878  \n",
       "2                 0.213433  \n",
       "3                 0.773711  \n",
       "4                 0.142595  "
      ]
     },
     "execution_count": 15,
     "metadata": {},
     "output_type": "execute_result"
    }
   ],
   "source": [
    "# initialize the MinMaxScaler\n",
    "X_norm = MinMaxScaler()\n",
    "\n",
    "# normalize all the numerical columns\n",
    "# normalize all the columns of the dataframe 'df_feature'\n",
    "num_norm = X_norm.fit_transform(df_feature)\n",
    "\n",
    "# create a dataframe of scaled numerical variables\n",
    "# pass the required column names to the parameter 'columns'\n",
    "X = pd.DataFrame(num_norm, columns = df_feature.columns)\n",
    "\n",
    "X.head()"
   ]
  },
  {
   "cell_type": "markdown",
   "metadata": {},
   "source": [
    "#### Train-Test Split"
   ]
  },
  {
   "cell_type": "code",
   "execution_count": 16,
   "metadata": {},
   "outputs": [
    {
     "name": "stdout",
     "output_type": "stream",
     "text": [
      "X_train_norm (455, 30)\n",
      "y_train (455,)\n",
      "X_test_norm (114, 30)\n",
      "y_test (114,)\n"
     ]
    }
   ],
   "source": [
    "# split data into train subset and test subset\n",
    "# set 'random_state' to generate the same dataset each time you run the code \n",
    "# 'test_size' returns the proportion of data to be included in the testing set\n",
    "X_train_norm, X_test_norm, y_train, y_test = train_test_split(X, df_target, random_state = 10, test_size = 0.2)\n",
    "\n",
    "# check the dimensions of the train & test subset using 'shape'\n",
    "# print dimension of train set\n",
    "print('X_train_norm', X_train_norm.shape)\n",
    "print('y_train', y_train.shape)\n",
    "\n",
    "# print dimension of test set\n",
    "print('X_test_norm', X_test_norm.shape)\n",
    "print('y_test', y_test.shape)"
   ]
  },
  {
   "cell_type": "markdown",
   "metadata": {},
   "source": [
    "#### Build a knn model on a training dataset using euclidean distance (Standardized Data)"
   ]
  },
  {
   "cell_type": "code",
   "execution_count": 17,
   "metadata": {
    "scrolled": false
   },
   "outputs": [],
   "source": [
    "# instantiate the 'KNeighborsClassifier'\n",
    "# n_neighnors: number of neighbors to consider\n",
    "# default metric is minkowski, and with p=2 it is equivalent to the euclidean metric\n",
    "knn_classification = KNeighborsClassifier(n_neighbors = 3)\n",
    "\n",
    "# fit the model using fit() on train data\n",
    "knn_model = knn_classification.fit(X_train_norm, y_train)"
   ]
  },
  {
   "cell_type": "markdown",
   "metadata": {},
   "source": [
    "#### Build a confusion matrix."
   ]
  },
  {
   "cell_type": "code",
   "execution_count": 18,
   "metadata": {},
   "outputs": [
    {
     "data": {
      "image/png": "[encoded data removed]",
      "text/plain": [
       "<Figure size 1080x576 with 1 Axes>"
      ]
     },
     "metadata": {
      "needs_background": "light"
     },
     "output_type": "display_data"
    }
   ],
   "source": [
    "# call the function to plot the confusion matrix\n",
    "# pass the knn model to the function\n",
    "plot_confusion_matrix(knn_model, test_data = X_test_norm)"
   ]
  },
  {
   "cell_type": "markdown",
   "metadata": {},
   "source": [
    "**Calculate performance measures on the test set.**"
   ]
  },
  {
   "cell_type": "code",
   "execution_count": 19,
   "metadata": {
    "colab": {},
    "colab_type": "code",
    "id": "UP5DA9_qebpC",
    "scrolled": false
   },
   "outputs": [
    {
     "name": "stdout",
     "output_type": "stream",
     "text": [
      "              precision    recall  f1-score   support\n",
      "\n",
      "           0       0.99      1.00      0.99        75\n",
      "           1       1.00      0.97      0.99        39\n",
      "\n",
      "    accuracy                           0.99       114\n",
      "   macro avg       0.99      0.99      0.99       114\n",
      "weighted avg       0.99      0.99      0.99       114\n",
      "\n"
     ]
    }
   ],
   "source": [
    "# compute the performance measures on test data\n",
    "# call the function 'get_test_report'\n",
    "# pass the knn model to the function\n",
    "test_report = get_test_report(knn_model, test_data = X_test_norm)\n",
    "\n",
    "# print the performace measures\n",
    "print(test_report)"
   ]
  },
  {
   "cell_type": "markdown",
   "metadata": {},
   "source": [
    "**Interpretation:** The accuracy is 99% for this model."
   ]
  },
  {
   "cell_type": "markdown",
   "metadata": {},
   "source": [
    "**Plot the ROC curve.**"
   ]
  },
  {
   "cell_type": "code",
   "execution_count": 20,
   "metadata": {
    "scrolled": false
   },
   "outputs": [
    {
     "data": {
      "image/png": "[encoded data removed]",
      "text/plain": [
       "<Figure size 1080x576 with 1 Axes>"
      ]
     },
     "metadata": {
      "needs_background": "light"
     },
     "output_type": "display_data"
    }
   ],
   "source": [
    "# call the function to plot the ROC curve\n",
    "# pass the knn model to the function\n",
    "plot_roc(knn_model, test_data = X_test_norm)"
   ]
  },
  {
   "cell_type": "markdown",
   "metadata": {},
   "source": [
    "**Interpretation:** The red dotted line represents the ROC curve of a purely random classifier; a good classifier stays as far away from that line as possible (toward the top-left corner).<br>\n",
    "From the above plot, we can see that our classifier (knn_model with n_neighbors = 3) is away from the dotted line; with the AUC score 0.9991."
   ]
  },
  {
   "cell_type": "markdown",
   "metadata": {},
   "source": [
    "#### We can also perform standardization. Whether to normalize or standardize the data is completely experimental."
   ]
  },
  {
   "cell_type": "markdown",
   "metadata": {},
   "source": [
    "#### Standardize the Data "
   ]
  },
  {
   "cell_type": "markdown",
   "metadata": {},
   "source": [
    "We scale the variables to get all the variables in the same range. With this, we can avoid a problem in which some features come to dominate solely because they tend to have larger values than others."
   ]
  },
  {
   "cell_type": "code",
   "execution_count": 21,
   "metadata": {
    "scrolled": false
   },
   "outputs": [
    {
     "data": {
      "text/html": [
       "<div>\n",
       "<style scoped>\n",
       "    .dataframe tbody tr th:only-of-type {\n",
       "        vertical-align: middle;\n",
       "    }\n",
       "\n",
       "    .dataframe tbody tr th {\n",
       "        vertical-align: top;\n",
       "    }\n",
       "\n",
       "    .dataframe thead th {\n",
       "        text-align: right;\n",
       "    }\n",
       "</style>\n",
       "<table border=\"1\" class=\"dataframe\">\n",
       "  <thead>\n",
       "    <tr style=\"text-align: right;\">\n",
       "      <th></th>\n",
       "      <th>radius_mean</th>\n",
       "      <th>texture_mean</th>\n",
       "      <th>perimeter_mean</th>\n",
       "      <th>area_mean</th>\n",
       "      <th>smoothness_mean</th>\n",
       "      <th>compactness_mean</th>\n",
       "      <th>concavity_mean</th>\n",
       "      <th>concave points_mean</th>\n",
       "      <th>symmetry_mean</th>\n",
       "      <th>fractal_dimension_mean</th>\n",
       "      <th>radius_se</th>\n",
       "      <th>texture_se</th>\n",
       "      <th>perimeter_se</th>\n",
       "      <th>area_se</th>\n",
       "      <th>smoothness_se</th>\n",
       "      <th>compactness_se</th>\n",
       "      <th>concavity_se</th>\n",
       "      <th>concave points_se</th>\n",
       "      <th>symmetry_se</th>\n",
       "      <th>fractal_dimension_se</th>\n",
       "      <th>radius_worst</th>\n",
       "      <th>texture_worst</th>\n",
       "      <th>perimeter_worst</th>\n",
       "      <th>area_worst</th>\n",
       "      <th>smoothness_worst</th>\n",
       "      <th>compactness_worst</th>\n",
       "      <th>concavity_worst</th>\n",
       "      <th>concave points_worst</th>\n",
       "      <th>symmetry_worst</th>\n",
       "      <th>fractal_dimension_worst</th>\n",
       "    </tr>\n",
       "  </thead>\n",
       "  <tbody>\n",
       "    <tr>\n",
       "      <th>0</th>\n",
       "      <td>1.097064</td>\n",
       "      <td>-2.073335</td>\n",
       "      <td>1.269934</td>\n",
       "      <td>0.984375</td>\n",
       "      <td>1.568466</td>\n",
       "      <td>3.283515</td>\n",
       "      <td>2.652874</td>\n",
       "      <td>2.532475</td>\n",
       "      <td>2.217515</td>\n",
       "      <td>2.255747</td>\n",
       "      <td>2.489734</td>\n",
       "      <td>-0.565265</td>\n",
       "      <td>2.833031</td>\n",
       "      <td>2.487578</td>\n",
       "      <td>-0.214002</td>\n",
       "      <td>1.316862</td>\n",
       "      <td>0.724026</td>\n",
       "      <td>0.660820</td>\n",
       "      <td>1.148757</td>\n",
       "      <td>0.907083</td>\n",
       "      <td>1.886690</td>\n",
       "      <td>-1.359293</td>\n",
       "      <td>2.303601</td>\n",
       "      <td>2.001237</td>\n",
       "      <td>1.307686</td>\n",
       "      <td>2.616665</td>\n",
       "      <td>2.109526</td>\n",
       "      <td>2.296076</td>\n",
       "      <td>2.750622</td>\n",
       "      <td>1.937015</td>\n",
       "    </tr>\n",
       "    <tr>\n",
       "      <th>1</th>\n",
       "      <td>1.829821</td>\n",
       "      <td>-0.353632</td>\n",
       "      <td>1.685955</td>\n",
       "      <td>1.908708</td>\n",
       "      <td>-0.826962</td>\n",
       "      <td>-0.487072</td>\n",
       "      <td>-0.023846</td>\n",
       "      <td>0.548144</td>\n",
       "      <td>0.001392</td>\n",
       "      <td>-0.868652</td>\n",
       "      <td>0.499255</td>\n",
       "      <td>-0.876244</td>\n",
       "      <td>0.263327</td>\n",
       "      <td>0.742402</td>\n",
       "      <td>-0.605351</td>\n",
       "      <td>-0.692926</td>\n",
       "      <td>-0.440780</td>\n",
       "      <td>0.260162</td>\n",
       "      <td>-0.805450</td>\n",
       "      <td>-0.099444</td>\n",
       "      <td>1.805927</td>\n",
       "      <td>-0.369203</td>\n",
       "      <td>1.535126</td>\n",
       "      <td>1.890489</td>\n",
       "      <td>-0.375612</td>\n",
       "      <td>-0.430444</td>\n",
       "      <td>-0.146749</td>\n",
       "      <td>1.087084</td>\n",
       "      <td>-0.243890</td>\n",
       "      <td>0.281190</td>\n",
       "    </tr>\n",
       "    <tr>\n",
       "      <th>2</th>\n",
       "      <td>1.579888</td>\n",
       "      <td>0.456187</td>\n",
       "      <td>1.566503</td>\n",
       "      <td>1.558884</td>\n",
       "      <td>0.942210</td>\n",
       "      <td>1.052926</td>\n",
       "      <td>1.363478</td>\n",
       "      <td>2.037231</td>\n",
       "      <td>0.939685</td>\n",
       "      <td>-0.398008</td>\n",
       "      <td>1.228676</td>\n",
       "      <td>-0.780083</td>\n",
       "      <td>0.850928</td>\n",
       "      <td>1.181336</td>\n",
       "      <td>-0.297005</td>\n",
       "      <td>0.814974</td>\n",
       "      <td>0.213076</td>\n",
       "      <td>1.424827</td>\n",
       "      <td>0.237036</td>\n",
       "      <td>0.293559</td>\n",
       "      <td>1.511870</td>\n",
       "      <td>-0.023974</td>\n",
       "      <td>1.347475</td>\n",
       "      <td>1.456285</td>\n",
       "      <td>0.527407</td>\n",
       "      <td>1.082932</td>\n",
       "      <td>0.854974</td>\n",
       "      <td>1.955000</td>\n",
       "      <td>1.152255</td>\n",
       "      <td>0.201391</td>\n",
       "    </tr>\n",
       "    <tr>\n",
       "      <th>3</th>\n",
       "      <td>-0.768909</td>\n",
       "      <td>0.253732</td>\n",
       "      <td>-0.592687</td>\n",
       "      <td>-0.764464</td>\n",
       "      <td>3.283553</td>\n",
       "      <td>3.402909</td>\n",
       "      <td>1.915897</td>\n",
       "      <td>1.451707</td>\n",
       "      <td>2.867383</td>\n",
       "      <td>4.910919</td>\n",
       "      <td>0.326373</td>\n",
       "      <td>-0.110409</td>\n",
       "      <td>0.286593</td>\n",
       "      <td>-0.288378</td>\n",
       "      <td>0.689702</td>\n",
       "      <td>2.744280</td>\n",
       "      <td>0.819518</td>\n",
       "      <td>1.115007</td>\n",
       "      <td>4.732680</td>\n",
       "      <td>2.047511</td>\n",
       "      <td>-0.281464</td>\n",
       "      <td>0.133984</td>\n",
       "      <td>-0.249939</td>\n",
       "      <td>-0.550021</td>\n",
       "      <td>3.394275</td>\n",
       "      <td>3.893397</td>\n",
       "      <td>1.989588</td>\n",
       "      <td>2.175786</td>\n",
       "      <td>6.046041</td>\n",
       "      <td>4.935010</td>\n",
       "    </tr>\n",
       "    <tr>\n",
       "      <th>4</th>\n",
       "      <td>1.750297</td>\n",
       "      <td>-1.151816</td>\n",
       "      <td>1.776573</td>\n",
       "      <td>1.826229</td>\n",
       "      <td>0.280372</td>\n",
       "      <td>0.539340</td>\n",
       "      <td>1.371011</td>\n",
       "      <td>1.428493</td>\n",
       "      <td>-0.009560</td>\n",
       "      <td>-0.562450</td>\n",
       "      <td>1.270543</td>\n",
       "      <td>-0.790244</td>\n",
       "      <td>1.273189</td>\n",
       "      <td>1.190357</td>\n",
       "      <td>1.483067</td>\n",
       "      <td>-0.048520</td>\n",
       "      <td>0.828471</td>\n",
       "      <td>1.144205</td>\n",
       "      <td>-0.361092</td>\n",
       "      <td>0.499328</td>\n",
       "      <td>1.298575</td>\n",
       "      <td>-1.466770</td>\n",
       "      <td>1.338539</td>\n",
       "      <td>1.220724</td>\n",
       "      <td>0.220556</td>\n",
       "      <td>-0.313395</td>\n",
       "      <td>0.613179</td>\n",
       "      <td>0.729259</td>\n",
       "      <td>-0.868353</td>\n",
       "      <td>-0.397100</td>\n",
       "    </tr>\n",
       "  </tbody>\n",
       "</table>\n",
       "</div>"
      ],
      "text/plain": [
       "   radius_mean  texture_mean  perimeter_mean  area_mean  smoothness_mean  \\\n",
       "0     1.097064     -2.073335        1.269934   0.984375         1.568466   \n",
       "1     1.829821     -0.353632        1.685955   1.908708        -0.826962   \n",
       "2     1.579888      0.456187        1.566503   1.558884         0.942210   \n",
       "3    -0.768909      0.253732       -0.592687  -0.764464         3.283553   \n",
       "4     1.750297     -1.151816        1.776573   1.826229         0.280372   \n",
       "\n",
       "   compactness_mean  concavity_mean  concave points_mean  symmetry_mean  \\\n",
       "0          3.283515        2.652874             2.532475       2.217515   \n",
       "1         -0.487072       -0.023846             0.548144       0.001392   \n",
       "2          1.052926        1.363478             2.037231       0.939685   \n",
       "3          3.402909        1.915897             1.451707       2.867383   \n",
       "4          0.539340        1.371011             1.428493      -0.009560   \n",
       "\n",
       "   fractal_dimension_mean  radius_se  texture_se  perimeter_se   area_se  \\\n",
       "0                2.255747   2.489734   -0.565265      2.833031  2.487578   \n",
       "1               -0.868652   0.499255   -0.876244      0.263327  0.742402   \n",
       "2               -0.398008   1.228676   -0.780083      0.850928  1.181336   \n",
       "3                4.910919   0.326373   -0.110409      0.286593 -0.288378   \n",
       "4               -0.562450   1.270543   -0.790244      1.273189  1.190357   \n",
       "\n",
       "   smoothness_se  compactness_se  concavity_se  concave points_se  \\\n",
       "0      -0.214002        1.316862      0.724026           0.660820   \n",
       "1      -0.605351       -0.692926     -0.440780           0.260162   \n",
       "2      -0.297005        0.814974      0.213076           1.424827   \n",
       "3       0.689702        2.744280      0.819518           1.115007   \n",
       "4       1.483067       -0.048520      0.828471           1.144205   \n",
       "\n",
       "   symmetry_se  fractal_dimension_se  radius_worst  texture_worst  \\\n",
       "0     1.148757              0.907083      1.886690      -1.359293   \n",
       "1    -0.805450             -0.099444      1.805927      -0.369203   \n",
       "2     0.237036              0.293559      1.511870      -0.023974   \n",
       "3     4.732680              2.047511     -0.281464       0.133984   \n",
       "4    -0.361092              0.499328      1.298575      -1.466770   \n",
       "\n",
       "   perimeter_worst  area_worst  smoothness_worst  compactness_worst  \\\n",
       "0         2.303601    2.001237          1.307686           2.616665   \n",
       "1         1.535126    1.890489         -0.375612          -0.430444   \n",
       "2         1.347475    1.456285          0.527407           1.082932   \n",
       "3        -0.249939   -0.550021          3.394275           3.893397   \n",
       "4         1.338539    1.220724          0.220556          -0.313395   \n",
       "\n",
       "   concavity_worst  concave points_worst  symmetry_worst  \\\n",
       "0         2.109526              2.296076        2.750622   \n",
       "1        -0.146749              1.087084       -0.243890   \n",
       "2         0.854974              1.955000        1.152255   \n",
       "3         1.989588              2.175786        6.046041   \n",
       "4         0.613179              0.729259       -0.868353   \n",
       "\n",
       "   fractal_dimension_worst  \n",
       "0                 1.937015  \n",
       "1                 0.281190  \n",
       "2                 0.201391  \n",
       "3                 4.935010  \n",
       "4                -0.397100  "
      ]
     },
     "execution_count": 21,
     "metadata": {},
     "output_type": "execute_result"
    }
   ],
   "source": [
    "# initialize the standard scalar\n",
    "X_scaler = StandardScaler()\n",
    "\n",
    "# scale all the numerical columns\n",
    "# standardize all the columns of the dataframe 'df_feature'\n",
    "num_scaled = X_scaler.fit_transform(df_feature)\n",
    "\n",
    "# create a dataframe of scaled numerical variables\n",
    "# pass the required column names to the parameter 'columns'\n",
    "X = pd.DataFrame(num_scaled, columns = df_feature.columns)\n",
    "\n",
    "X.head()"
   ]
  },
  {
   "cell_type": "markdown",
   "metadata": {},
   "source": [
    "#### Train-Test Split"
   ]
  },
  {
   "cell_type": "code",
   "execution_count": 22,
   "metadata": {},
   "outputs": [
    {
     "name": "stdout",
     "output_type": "stream",
     "text": [
      "X_train (455, 30)\n",
      "y_train (455,)\n",
      "X_test (114, 30)\n",
      "y_test (114,)\n"
     ]
    }
   ],
   "source": [
    "# split data into train subset and test subset\n",
    "# set 'random_state' to generate the same dataset each time you run the code \n",
    "# 'test_size' returns the proportion of data to be included in the testing set\n",
    "X_train_std, X_test_std, y_train, y_test = train_test_split(X, df_target, random_state = 10, test_size = 0.2)\n",
    "\n",
    "# check the dimensions of the train & test subset using 'shape'\n",
    "# print dimension of train set\n",
    "print('X_train', X_train_std.shape)\n",
    "print('y_train', y_train.shape)\n",
    "\n",
    "# print dimension of test set\n",
    "print('X_test', X_test_std.shape)\n",
    "print('y_test', y_test.shape)"
   ]
  },
  {
   "cell_type": "markdown",
   "metadata": {},
   "source": [
    "#### Build a knn model on a training dataset using euclidean distance (Standardized Data)"
   ]
  },
  {
   "cell_type": "code",
   "execution_count": 23,
   "metadata": {
    "scrolled": false
   },
   "outputs": [],
   "source": [
    "# instantiate the 'KNeighborsClassifier'\n",
    "# n_neighnors: number of neighbors to consider\n",
    "# default metric is minkowski, and with p=2 it is equivalent to the euclidean metric\n",
    "knn_classification = KNeighborsClassifier(n_neighbors = 3)\n",
    "\n",
    "# fit the model using fit() on train data\n",
    "knn_model = knn_classification.fit(X_train_std, y_train)"
   ]
  },
  {
   "cell_type": "markdown",
   "metadata": {},
   "source": [
    "#### Build a confusion matrix."
   ]
  },
  {
   "cell_type": "code",
   "execution_count": 24,
   "metadata": {},
   "outputs": [
    {
     "data": {
      "image/png": "[encoded data removed]",
      "text/plain": [
       "<Figure size 1080x576 with 1 Axes>"
      ]
     },
     "metadata": {
      "needs_background": "light"
     },
     "output_type": "display_data"
    }
   ],
   "source": [
    "# call the function to plot the confusion matrix\n",
    "# pass the knn model to the function\n",
    "plot_confusion_matrix(knn_model, test_data = X_test_std)"
   ]
  },
  {
   "cell_type": "markdown",
   "metadata": {},
   "source": [
    "**Calculate performance measures on the test set.**"
   ]
  },
  {
   "cell_type": "code",
   "execution_count": 25,
   "metadata": {
    "colab": {},
    "colab_type": "code",
    "id": "UP5DA9_qebpC",
    "scrolled": false
   },
   "outputs": [
    {
     "name": "stdout",
     "output_type": "stream",
     "text": [
      "              precision    recall  f1-score   support\n",
      "\n",
      "           0       0.97      1.00      0.99        75\n",
      "           1       1.00      0.95      0.97        39\n",
      "\n",
      "    accuracy                           0.98       114\n",
      "   macro avg       0.99      0.97      0.98       114\n",
      "weighted avg       0.98      0.98      0.98       114\n",
      "\n"
     ]
    }
   ],
   "source": [
    "# compute the performance measures on test data\n",
    "# call the function 'get_test_report'\n",
    "# pass the knn model to the function\n",
    "test_report = get_test_report(knn_model, test_data = X_test_std)\n",
    "\n",
    "# print the performace measures\n",
    "print(test_report)"
   ]
  },
  {
   "cell_type": "markdown",
   "metadata": {},
   "source": [
    "**Interpretation:** The accuracy is 98% for this model."
   ]
  },
  {
   "cell_type": "markdown",
   "metadata": {},
   "source": [
    "**Plot the ROC curve.**"
   ]
  },
  {
   "cell_type": "code",
   "execution_count": 26,
   "metadata": {
    "scrolled": false
   },
   "outputs": [
    {
     "data": {
      "image/png": "[encoded data removed]",
      "text/plain": [
       "<Figure size 1080x576 with 1 Axes>"
      ]
     },
     "metadata": {
      "needs_background": "light"
     },
     "output_type": "display_data"
    }
   ],
   "source": [
    "# call the function to plot the ROC curve\n",
    "# pass the knn model to the function\n",
    "plot_roc(knn_model, test_data = X_test_std)"
   ]
  },
  {
   "cell_type": "markdown",
   "metadata": {},
   "source": [
    "**Interpretation:** The red dotted line represents the ROC curve of a purely random classifier; a good classifier stays as far away from that line as possible (toward the top-left corner).<br>\n",
    "From the above plot, we can see that our classifier (knn_model with n_neighbors = 3) is away from the dotted line; with the AUC score 0.9976."
   ]
  },
  {
   "cell_type": "markdown",
   "metadata": {},
   "source": [
    "#### We can see that the KNN model is performing well with both the normalized and standardized data. But the performance with normalized data is slightly better than that of standardized data. Thus we will consider the normalized data to find the optimal value of 'k'."
   ]
  },
  {
   "cell_type": "markdown",
   "metadata": {},
   "source": [
    "<a id=\"hyper\"></a>\n",
    "## 3.1 Optimal Value of K (using GridSearchCV)"
   ]
  },
  {
   "cell_type": "code",
   "execution_count": 27,
   "metadata": {},
   "outputs": [
    {
     "name": "stdout",
     "output_type": "stream",
     "text": [
      "Best parameters for KNN Classifier:  {'metric': 'euclidean', 'n_neighbors': 7} \n",
      "\n"
     ]
    }
   ],
   "source": [
    "# create a dictionary with hyperparameters and its values\n",
    "# n_neighnors: number of neighbors to consider\n",
    "# usually, we consider the odd value of 'n_neighnors' to avoid the equal number of nearest points with more than one class\n",
    "# pass the different distance metrics to the parameter, 'metric'\n",
    "tuned_paramaters = {'n_neighbors': np.arange(1, 25, 2),\n",
    "                   'metric': ['hamming','euclidean','manhattan','Chebyshev']}\n",
    " \n",
    "# instantiate the 'KNeighborsClassifier' \n",
    "knn_classification = KNeighborsClassifier()\n",
    "\n",
    "# use GridSearchCV() to find the optimal value of the hyperparameters\n",
    "# estimator: pass the knn model\n",
    "# param_grid: pass the dictionary with hyperparameters and its values\n",
    "# cv: number of folds in k-fold i.e. here cv = 5\n",
    "# scoring: pass the scoring parameter 'accuracy'\n",
    "knn_grid = GridSearchCV(estimator = knn_classification, \n",
    "                        param_grid = tuned_paramaters, \n",
    "                        cv = 5, \n",
    "                        scoring = 'accuracy')\n",
    "\n",
    "# fit the model on X_train and y_train using fit()\n",
    "knn_grid.fit(X_train_norm, y_train)\n",
    "\n",
    "# get the best parameters\n",
    "print('Best parameters for KNN Classifier: ', knn_grid.best_params_, '\\n')"
   ]
  },
  {
   "cell_type": "markdown",
   "metadata": {},
   "source": [
    "#### Draw a line plot to see the error rate for each value of K using euclidean distance as a metric of KNN model"
   ]
  },
  {
   "cell_type": "code",
   "execution_count": 28,
   "metadata": {},
   "outputs": [
    {
     "data": {
      "image/png": "[encoded data removed]",
      "text/plain": [
       "<Figure size 1080x576 with 1 Axes>"
      ]
     },
     "metadata": {
      "needs_background": "light"
     },
     "output_type": "display_data"
    }
   ],
   "source": [
    "# consider an empty list to store error rate\n",
    "error_rate = []\n",
    "\n",
    "# use for loop to build a knn model for each K\n",
    "for i in np.arange(1,25,2):\n",
    "    \n",
    "    # setup a knn classifier with k neighbors\n",
    "    # use the 'euclidean' metric \n",
    "    knn = KNeighborsClassifier(i, metric = 'euclidean')\n",
    "   \n",
    "    # fit the model using 'cross_val_score'\n",
    "    # pass the knn model as 'estimator'\n",
    "    # use 5-fold cross validation\n",
    "    score = cross_val_score(knn, X_train_norm, y_train, cv = 5)\n",
    "    \n",
    "    # calculate the mean score\n",
    "    score = score.mean()\n",
    "    \n",
    "    # compute error rate \n",
    "    error_rate.append(1 - score)\n",
    "\n",
    "# plot the error_rate for different values of K \n",
    "plt.plot(range(1,25,2), error_rate)\n",
    "\n",
    "# add plot and axes labels\n",
    "# set text size using 'fontsize'\n",
    "plt.title('Error Rate', fontsize = 15)\n",
    "plt.xlabel('K', fontsize = 15)\n",
    "plt.ylabel('Error Rate', fontsize = 15)\n",
    "\n",
    "# set the x-axis labels\n",
    "plt.xticks(np.arange(1, 25, step = 2))\n",
    "\n",
    "# plot a vertical line across the minimum error rate\n",
    "plt.axvline(x = 7, color = 'red')\n",
    "\n",
    "# display the plot\n",
    "plt.show()"
   ]
  },
  {
   "cell_type": "markdown",
   "metadata": {},
   "source": [
    "**Interpretation:** We can see that the optimal value of K (= 7) obtained from the GridSearchCV() results in a lowest error rate. "
   ]
  },
  {
   "cell_type": "markdown",
   "metadata": {},
   "source": [
    "**Calculate performance measures on the test set.**"
   ]
  },
  {
   "cell_type": "code",
   "execution_count": 29,
   "metadata": {
    "scrolled": true
   },
   "outputs": [
    {
     "name": "stdout",
     "output_type": "stream",
     "text": [
      "Classification Report for test set: \n",
      "               precision    recall  f1-score   support\n",
      "\n",
      "           0       1.00      1.00      1.00        75\n",
      "           1       1.00      1.00      1.00        39\n",
      "\n",
      "    accuracy                           1.00       114\n",
      "   macro avg       1.00      1.00      1.00       114\n",
      "weighted avg       1.00      1.00      1.00       114\n",
      "\n"
     ]
    }
   ],
   "source": [
    "# print the performance measures for test set for the model with best parameters\n",
    "# call the function 'get_test_report'\n",
    "# pass the knn model using GridSearch to the function\n",
    "print('Classification Report for test set: \\n', get_test_report(knn_grid, test_data=X_test_norm))"
   ]
  },
  {
   "cell_type": "markdown",
   "metadata": {},
   "source": [
    "**Plot the ROC curve.**"
   ]
  },
  {
   "cell_type": "code",
   "execution_count": 30,
   "metadata": {
    "scrolled": false
   },
   "outputs": [
    {
     "data": {
      "image/png": "[encoded data removed]",
      "text/plain": [
       "<Figure size 1080x576 with 1 Axes>"
      ]
     },
     "metadata": {
      "needs_background": "light"
     },
     "output_type": "display_data"
    }
   ],
   "source": [
    "# call the function to plot the ROC curve\n",
    "# pass the knn model to the function\n",
    "plot_roc(knn_grid, test_data=X_test_norm)"
   ]
  },
  {
   "cell_type": "markdown",
   "metadata": {},
   "source": [
    "**Interpretation:** From the above plot, we can see that our classifier (knn_model with n_neighbors = 7) is away from the red dotted line (i.e on the axes); with the AUC score 1.0."
   ]
  },
  {
   "cell_type": "markdown",
   "metadata": {},
   "source": [
    "<a id=\"NB\"></a>\n",
    "# 4. Naive Bayes Algorithm\n",
    "\n",
    "It uses a `Bayes' Theorem` with the assumption of independence of predictor variables. The sklearn library provides different naive bayes classifiers, as `GaussianNB`, `MultinomialNB` and so on. "
   ]
  },
  {
   "cell_type": "markdown",
   "metadata": {},
   "source": [
    "#### Build a naive bayes model on a training dataset."
   ]
  },
  {
   "cell_type": "code",
   "execution_count": 31,
   "metadata": {},
   "outputs": [],
   "source": [
    "# instantiate the 'GaussianNB'\n",
    "gnb = GaussianNB()\n",
    "\n",
    "# fit the model using fit() on train data\n",
    "gnb_model = gnb.fit(X_train_norm, y_train)"
   ]
  },
  {
   "cell_type": "markdown",
   "metadata": {},
   "source": [
    "#### Build a confusion matrix."
   ]
  },
  {
   "cell_type": "code",
   "execution_count": 32,
   "metadata": {
    "scrolled": false
   },
   "outputs": [
    {
     "data": {
      "image/png": "[encoded data removed]",
      "text/plain": [
       "<Figure size 1080x576 with 1 Axes>"
      ]
     },
     "metadata": {
      "needs_background": "light"
     },
     "output_type": "display_data"
    }
   ],
   "source": [
    "# call the function to plot the confusion matrix\n",
    "# pass the gaussian naive bayes model to the function\n",
    "plot_confusion_matrix(gnb_model, test_data=X_test_norm)"
   ]
  },
  {
   "cell_type": "markdown",
   "metadata": {},
   "source": [
    "**Calculate performance measures on the test set.**"
   ]
  },
  {
   "cell_type": "code",
   "execution_count": 33,
   "metadata": {
    "colab": {},
    "colab_type": "code",
    "id": "UP5DA9_qebpC",
    "scrolled": false
   },
   "outputs": [
    {
     "name": "stdout",
     "output_type": "stream",
     "text": [
      "              precision    recall  f1-score   support\n",
      "\n",
      "           0       0.99      0.95      0.97        75\n",
      "           1       0.90      0.97      0.94        39\n",
      "\n",
      "    accuracy                           0.96       114\n",
      "   macro avg       0.95      0.96      0.95       114\n",
      "weighted avg       0.96      0.96      0.96       114\n",
      "\n"
     ]
    }
   ],
   "source": [
    "# compute the performance measures on test data\n",
    "# call the function 'get_test_report'\n",
    "# pass the gaussian naive bayes model to the function\n",
    "test_report = get_test_report(gnb_model, test_data=X_test_norm)\n",
    "\n",
    "# print the performace measures\n",
    "print(test_report)"
   ]
  },
  {
   "cell_type": "markdown",
   "metadata": {},
   "source": [
    "**Plot the ROC curve.**"
   ]
  },
  {
   "cell_type": "code",
   "execution_count": 34,
   "metadata": {},
   "outputs": [
    {
     "data": {
      "image/png": "[encoded data removed]",
      "text/plain": [
       "<Figure size 1080x576 with 1 Axes>"
      ]
     },
     "metadata": {
      "needs_background": "light"
     },
     "output_type": "display_data"
    }
   ],
   "source": [
    "# call the function to plot the ROC curve\n",
    "# pass the gaussian naive bayes model to the function\n",
    "plot_roc(gnb_model, test_data=X_test_norm)"
   ]
  },
  {
   "cell_type": "markdown",
   "metadata": {},
   "source": [
    "**Interpretation:** From the above plot, we can see that our classifier (gnb_model) is away from the red dotted line; with the AUC score 0.9781."
   ]
  },
  {
   "cell_type": "markdown",
   "metadata": {},
   "source": [
    "**Note:** Algorithms like Naive Bayes and tree based algorithms do not need feature scaling or normalization. Performing a features scaling in these algorithms may not have much effect."
   ]
  },
  {
   "cell_type": "markdown",
   "metadata": {},
   "source": [
    "<a id=\"compare\"></a>\n",
    "# 5. Comparison between KNN Model and Naive Bayes Model"
   ]
  },
  {
   "cell_type": "code",
   "execution_count": 35,
   "metadata": {},
   "outputs": [
    {
     "data": {
      "image/png": "[encoded data removed]",
      "text/plain": [
       "<Figure size 1080x576 with 1 Axes>"
      ]
     },
     "metadata": {
      "needs_background": "light"
     },
     "output_type": "display_data"
    }
   ],
   "source": [
    "# K Nearest Neighbors\n",
    "y_pred_prob_knn = knn_grid.predict_proba(X_test_norm)[:,1]\n",
    "    \n",
    "# the roc_curve() returns the values for false positive rate, true positive rate and threshold\n",
    "# pass the actual target values and predicted probabilities to the function\n",
    "fpr, tpr, thresholds = roc_curve(y_test, y_pred_prob_knn)\n",
    "\n",
    "# add the AUC score to the plot\n",
    "auc_score_knn = roc_auc_score(y_test, y_pred_prob_knn)\n",
    "\n",
    "# plot the ROC curve\n",
    "plt.plot(fpr, tpr, label='KNN Model (AUC Score = %0.4f)' % auc_score_knn)\n",
    "\n",
    "# Gaussian Naive Bayes\n",
    "y_pred_prob_gnb = gnb_model.predict_proba(X_test_norm)[:,1]\n",
    "    \n",
    "# the roc_curve() returns the values for false positive rate, true positive rate and threshold\n",
    "# pass the actual target values and predicted probabilities to the function\n",
    "fpr, tpr, thresholds = roc_curve(y_test, y_pred_prob_gnb)\n",
    "\n",
    "# add the AUC score to the plot\n",
    "auc_score_gnb = roc_auc_score(y_test, y_pred_prob_gnb)\n",
    "\n",
    "# plot the ROC curve\n",
    "plt.plot(fpr, tpr, label='GNB Model (AUC Score = %0.4f)' % auc_score_gnb)\n",
    "\n",
    "# set limits for x and y axes\n",
    "plt.xlim([0.0, 1.0])\n",
    "plt.ylim([0.0, 1.0])\n",
    "\n",
    "# plot the straight line showing worst prediction for the model\n",
    "plt.plot([0, 1], [0, 1],'r--')\n",
    "\n",
    "# add plot and axes labels\n",
    "# set text size using 'fontsize'\n",
    "plt.title('GNB Model Vs. KNN Model', fontsize = 15)\n",
    "plt.xlabel('False positive rate (1-Specificity)', fontsize = 15)\n",
    "plt.ylabel('True positive rate (Sensitivity)', fontsize = 15)\n",
    "\n",
    "# set the position of legend\n",
    "plt.legend(loc = 'lower right')\n",
    "\n",
    "# plot the grid\n",
    "plt.grid(True)"
   ]
  },
  {
   "cell_type": "markdown",
   "metadata": {},
   "source": [
    "**Interpretation:** The Auc Score of KNN Model is slightly higher than that of Gaussian Naive Bayes model. Also KNN model is more stable than Gaussian Naive Bayes model."
   ]
  }
 ],
 "metadata": {
  "kernelspec": {
   "display_name": "Python 3 (ipykernel)",
   "language": "python",
   "name": "python3"
  },
  "language_info": {
   "codemirror_mode": {
    "name": "ipython",
    "version": 3
   },
   "file_extension": ".py",
   "mimetype": "text/x-python",
   "name": "python",
   "nbconvert_exporter": "python",
   "pygments_lexer": "ipython3",
   "version": "3.11.3"
  }
 },
 "nbformat": 4,
 "nbformat_minor": 2
}
