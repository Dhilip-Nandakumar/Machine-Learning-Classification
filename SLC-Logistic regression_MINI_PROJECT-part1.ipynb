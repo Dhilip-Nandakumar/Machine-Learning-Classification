{
 "cells": [
  {
   "cell_type": "markdown",
   "metadata": {},
   "source": [
    "# Logistic regression"
   ]
  },
  {
   "cell_type": "markdown",
   "metadata": {},
   "source": [
    "# Dataset:\n",
    "German Credit"
   ]
  },
  {
   "cell_type": "markdown",
   "metadata": {},
   "source": [
    "# Objective\n",
    "Estimate default probabilities using logistic regression"
   ]
  },
  {
   "cell_type": "markdown",
   "metadata": {},
   "source": [
    "# 1. Load Libraries and data"
   ]
  },
  {
   "cell_type": "code",
   "execution_count": 1,
   "metadata": {},
   "outputs": [],
   "source": [
    "import numpy as np\n",
    "import pandas as pd\n",
    "import matplotlib.pyplot as plt\n",
    "import seaborn as sns\n",
    "import scipy.stats as stats"
   ]
  },
  {
   "cell_type": "code",
   "execution_count": 3,
   "metadata": {},
   "outputs": [
    {
     "data": {
      "text/html": [
       "<div>\n",
       "<style scoped>\n",
       "    .dataframe tbody tr th:only-of-type {\n",
       "        vertical-align: middle;\n",
       "    }\n",
       "\n",
       "    .dataframe tbody tr th {\n",
       "        vertical-align: top;\n",
       "    }\n",
       "\n",
       "    .dataframe thead th {\n",
       "        text-align: right;\n",
       "    }\n",
       "</style>\n",
       "<table border=\"1\" class=\"dataframe\">\n",
       "  <thead>\n",
       "    <tr style=\"text-align: right;\">\n",
       "      <th></th>\n",
       "      <th>Creditability</th>\n",
       "      <th>CreditAmount</th>\n",
       "      <th>DurationOfCreditInMonths</th>\n",
       "    </tr>\n",
       "  </thead>\n",
       "  <tbody>\n",
       "    <tr>\n",
       "      <td>0</td>\n",
       "      <td>1</td>\n",
       "      <td>1049</td>\n",
       "      <td>18</td>\n",
       "    </tr>\n",
       "    <tr>\n",
       "      <td>1</td>\n",
       "      <td>1</td>\n",
       "      <td>2799</td>\n",
       "      <td>9</td>\n",
       "    </tr>\n",
       "    <tr>\n",
       "      <td>2</td>\n",
       "      <td>1</td>\n",
       "      <td>841</td>\n",
       "      <td>12</td>\n",
       "    </tr>\n",
       "    <tr>\n",
       "      <td>3</td>\n",
       "      <td>1</td>\n",
       "      <td>2122</td>\n",
       "      <td>12</td>\n",
       "    </tr>\n",
       "    <tr>\n",
       "      <td>4</td>\n",
       "      <td>1</td>\n",
       "      <td>2171</td>\n",
       "      <td>12</td>\n",
       "    </tr>\n",
       "  </tbody>\n",
       "</table>\n",
       "</div>"
      ],
      "text/plain": [
       "   Creditability  CreditAmount  DurationOfCreditInMonths\n",
       "0              1          1049                        18\n",
       "1              1          2799                         9\n",
       "2              1           841                        12\n",
       "3              1          2122                        12\n",
       "4              1          2171                        12"
      ]
     },
     "execution_count": 3,
     "metadata": {},
     "output_type": "execute_result"
    }
   ],
   "source": [
    "d=pd.read_excel('GermanCredit.xlsx')\n",
    "d.head()"
   ]
  },
  {
   "cell_type": "markdown",
   "metadata": {},
   "source": [
    "# 2. Check how many records do we have\n"
   ]
  },
  {
   "cell_type": "code",
   "execution_count": 7,
   "metadata": {},
   "outputs": [
    {
     "name": "stdout",
     "output_type": "stream",
     "text": [
      "(1000, 3)\n",
      "<class 'pandas.core.frame.DataFrame'>\n",
      "RangeIndex: 1000 entries, 0 to 999\n",
      "Data columns (total 3 columns):\n",
      "Creditability               1000 non-null int64\n",
      "CreditAmount                1000 non-null int64\n",
      "DurationOfCreditInMonths    1000 non-null int64\n",
      "dtypes: int64(3)\n",
      "memory usage: 23.6 KB\n",
      "None\n",
      "1    700\n",
      "0    300\n",
      "Name: Creditability, dtype: int64\n",
      "24    184\n",
      "12    179\n",
      "18    113\n",
      "36     83\n",
      "6      75\n",
      "15     64\n",
      "9      49\n",
      "48     48\n",
      "30     40\n",
      "21     30\n",
      "10     28\n",
      "27     13\n",
      "60     13\n",
      "42     11\n",
      "11      9\n",
      "20      8\n",
      "8       7\n",
      "4       6\n",
      "39      5\n",
      "45      5\n",
      "7       5\n",
      "14      4\n",
      "13      4\n",
      "33      3\n",
      "28      3\n",
      "22      2\n",
      "16      2\n",
      "54      2\n",
      "26      1\n",
      "40      1\n",
      "47      1\n",
      "5       1\n",
      "72      1\n",
      "Name: DurationOfCreditInMonths, dtype: int64\n"
     ]
    }
   ],
   "source": [
    "print(d.shape)\n",
    "print(d.info())\n",
    "print(d['Creditability'].value_counts())\n",
    "print(d['DurationOfCreditInMonths'].value_counts())"
   ]
  },
  {
   "cell_type": "markdown",
   "metadata": {},
   "source": [
    "# 3. Plot Histogram for column 'CreditAmount'"
   ]
  },
  {
   "cell_type": "code",
   "execution_count": 8,
   "metadata": {},
   "outputs": [
    {
     "data": {
      "text/plain": [
       "(array([445., 293.,  97.,  80.,  38.,  19.,  14.,   8.,   5.,   1.]),\n",
       " array([  250. ,  2067.4,  3884.8,  5702.2,  7519.6,  9337. , 11154.4,\n",
       "        12971.8, 14789.2, 16606.6, 18424. ]),\n",
       " <a list of 10 Patch objects>)"
      ]
     },
     "execution_count": 8,
     "metadata": {},
     "output_type": "execute_result"
    },
    {
     "data": {
      "image/png": "[encoded data removed]",
      "text/plain": [
       "<Figure size 432x288 with 1 Axes>"
      ]
     },
     "metadata": {
      "needs_background": "light"
     },
     "output_type": "display_data"
    }
   ],
   "source": [
    "plt.hist(d['CreditAmount'])"
   ]
  },
  {
   "cell_type": "markdown",
   "metadata": {},
   "source": [
    "# 3b. Create creditability dataframe"
   ]
  },
  {
   "cell_type": "code",
   "execution_count": 12,
   "metadata": {},
   "outputs": [],
   "source": [
    "d0=d[d['Creditability']==0]\n",
    "d1=d[d['Creditability']==1]"
   ]
  },
  {
   "cell_type": "markdown",
   "metadata": {},
   "source": [
    "# 4. Concatenate the above 2 dataframes and give the total of Credibiliity0 and Credibiliity1"
   ]
  },
  {
   "cell_type": "code",
   "execution_count": 17,
   "metadata": {},
   "outputs": [],
   "source": [
    "d11=pd.concat([d0,d1],axis=0)"
   ]
  },
  {
   "cell_type": "markdown",
   "metadata": {},
   "source": [
    "# 5. Plot Creditworthiness plot for Credibility == 0 and also ==1"
   ]
  },
  {
   "cell_type": "code",
   "execution_count": 18,
   "metadata": {},
   "outputs": [
    {
     "data": {
      "text/plain": [
       "<matplotlib.axes._subplots.AxesSubplot at 0x1df87ac9488>"
      ]
     },
     "execution_count": 18,
     "metadata": {},
     "output_type": "execute_result"
    },
    {
     "data": {
      "image/png": "[encoded data removed]",
      "text/plain": [
       "<Figure size 432x288 with 1 Axes>"
      ]
     },
     "metadata": {
      "needs_background": "light"
     },
     "output_type": "display_data"
    }
   ],
   "source": [
    "sns.countplot(d['Creditability'])"
   ]
  },
  {
   "cell_type": "markdown",
   "metadata": {},
   "source": [
    "# 6. Prepare input data for the model"
   ]
  },
  {
   "cell_type": "code",
   "execution_count": 20,
   "metadata": {},
   "outputs": [],
   "source": [
    "x=d.drop(['Creditability'],axis=1)\n",
    "y=d['Creditability']\n",
    "from sklearn.model_selection import train_test_split\n",
    "X_train, X_test, y_train, y_test = train_test_split(x,y, test_size = 0.3, random_state = 0)"
   ]
  },
  {
   "cell_type": "markdown",
   "metadata": {},
   "source": [
    "# 7. Fit logistic regression model"
   ]
  },
  {
   "cell_type": "code",
   "execution_count": 25,
   "metadata": {},
   "outputs": [
    {
     "name": "stdout",
     "output_type": "stream",
     "text": [
      "pred:  [1 1 1 1 1 1 1 1 1 1 1 1 1 1 1 1 1 1 1 1 1 1 1 0 1 1 1 1 0 1 1 1 1 1 1 1 1\n",
      " 1 0 1 1 1 1 1 1 1 1 1 1 1 1 1 1 1 1 1 1 1 1 1 1 1 1 1 1 1 1 1 1 1 1 1 1 1\n",
      " 1 1 1 1 1 1 1 1 1 0 1 1 1 1 1 1 1 1 1 1 1 1 1 1 1 1 1 1 1 1 1 1 1 1 1 1 1\n",
      " 1 1 1 1 1 1 0 1 1 1 1 1 1 1 1 1 1 1 0 1 1 1 1 1 1 1 1 1 1 1 1 1 1 1 1 1 1\n",
      " 1 1 1 1 1 1 1 1 1 1 0 1 1 1 1 1 1 1 1 1 1 1 1 1 1 0 1 1 1 1 1 1 1 1 1 1 1\n",
      " 1 1 1 1 1 1 1 1 1 1 1 1 1 1 1 1 1 1 1 1 1 1 1 1 1 1 1 1 1 1 1 1 1 1 1 1 1\n",
      " 1 1 1 1 1 1 1 1 1 1 1 1 0 1 1 1 1 1 1 1 1 1 1 1 1 1 1 0 1 1 1 1 1 1 1 1 1\n",
      " 1 1 1 1 1 1 1 1 1 1 1 1 1 1 1 1 1 1 1 1 1 1 1 1 1 1 1 1 1 1 1 1 1 1 1 1 1\n",
      " 1 1 1 1]\n",
      "prob:  [0.7374263  0.76618019 0.7669794  0.77903096 0.72767485 0.68835693\n",
      " 0.78578253 0.80096852 0.80359216 0.69334442 0.80560554 0.70003945\n",
      " 0.77059545 0.56725442 0.62510441 0.76510953 0.72919345 0.69192554\n",
      " 0.73051098 0.68708851 0.5969767  0.73415326 0.7668141  0.48943104\n",
      " 0.74854437 0.69565432 0.72803082 0.61322181 0.4907783  0.79057403\n",
      " 0.70890722 0.69386352 0.7042211  0.75022858 0.73043197 0.785571\n",
      " 0.64611084 0.68452458 0.49751625 0.58590626 0.68459993 0.68844855\n",
      " 0.6916056  0.52371488 0.74491649 0.80098799 0.78819838 0.7935424\n",
      " 0.68565757 0.59733345 0.7321154  0.61611859 0.78017312 0.7520159\n",
      " 0.76869311 0.69335926 0.80161857 0.80321187 0.76601449 0.80312361\n",
      " 0.5220022  0.50422456 0.69875929 0.7288212  0.68871792 0.81800459\n",
      " 0.7685659  0.68805174 0.76642078 0.59660305 0.74868884 0.73182788\n",
      " 0.76931916 0.69532176 0.69165026 0.76695757 0.69035013 0.73368649\n",
      " 0.68741851 0.50657093 0.77444985 0.71890966 0.78508862 0.49965787\n",
      " 0.50848096 0.75611853 0.7103668  0.68904698 0.69491873 0.68670202\n",
      " 0.79769249 0.76830511 0.67692397 0.78570029 0.72466587 0.76760868\n",
      " 0.76993475 0.68555979 0.76830822 0.68580044 0.6888002  0.62203912\n",
      " 0.80321463 0.59146572 0.77325857 0.77089449 0.80066195 0.6974797\n",
      " 0.64945068 0.7869403  0.60083251 0.76622395 0.77022204 0.7277198\n",
      " 0.75318861 0.78373139 0.7909238  0.43247426 0.77481791 0.64766911\n",
      " 0.66558054 0.73453787 0.80548255 0.78295808 0.76754021 0.72331789\n",
      " 0.70848768 0.71076868 0.61592463 0.49831444 0.68472424 0.74909896\n",
      " 0.7661208  0.78604673 0.69518129 0.70435192 0.80047854 0.72762299\n",
      " 0.73154701 0.65323058 0.74703731 0.76980492 0.59619568 0.72104072\n",
      " 0.69350391 0.75039528 0.54759752 0.78593521 0.70325351 0.75004218\n",
      " 0.61423929 0.64441755 0.69172467 0.76728796 0.67945814 0.72641801\n",
      " 0.73052815 0.8031705  0.49450245 0.78166464 0.68560868 0.77912513\n",
      " 0.73431668 0.57330792 0.76672673 0.74936448 0.78113511 0.76615519\n",
      " 0.6855297  0.72786843 0.76644115 0.59031852 0.71120965 0.49419716\n",
      " 0.73450385 0.78431044 0.7487151  0.64235997 0.69150884 0.59217801\n",
      " 0.7291142  0.6576279  0.76164137 0.74866257 0.68999943 0.68521743\n",
      " 0.69694564 0.6885608  0.62080364 0.71579963 0.8123534  0.61548704\n",
      " 0.79650023 0.78304998 0.74858049 0.80112979 0.71305877 0.78806973\n",
      " 0.68890117 0.76518477 0.59888518 0.68449067 0.80408736 0.7743884\n",
      " 0.7662802  0.71393087 0.79722515 0.7056292  0.70190457 0.52158861\n",
      " 0.7662927  0.76895979 0.76993166 0.68755346 0.76671126 0.74922526\n",
      " 0.50541522 0.76752464 0.76701994 0.69071551 0.68433239 0.60823196\n",
      " 0.74702412 0.78860005 0.75952227 0.74754472 0.59351723 0.80122429\n",
      " 0.59193781 0.76614893 0.77299538 0.71167528 0.7686683  0.63997158\n",
      " 0.49303712 0.75088515 0.77949313 0.68826889 0.59414845 0.72747428\n",
      " 0.68718978 0.76887299 0.64167829 0.77099616 0.72555046 0.75681922\n",
      " 0.69076769 0.76653632 0.77243771 0.44061511 0.59722854 0.76032224\n",
      " 0.77519515 0.70822989 0.78834398 0.8023694  0.80134885 0.7683517\n",
      " 0.69310325 0.73543504 0.76612393 0.73339662 0.74942346 0.59823537\n",
      " 0.7918743  0.80359216 0.80466938 0.68354793 0.73492892 0.77372063\n",
      " 0.54479954 0.76850693 0.76590815 0.69465974 0.78673254 0.69234936\n",
      " 0.62132512 0.76970288 0.74894481 0.76795708 0.71225132 0.68703974\n",
      " 0.51070465 0.5917903  0.5773497  0.69427474 0.68706975 0.64932754\n",
      " 0.76858142 0.69726982 0.55729463 0.81475982 0.69015615 0.74675868\n",
      " 0.61695181 0.69670605 0.7836442  0.50795769 0.77422071 0.78201329]\n"
     ]
    }
   ],
   "source": [
    "from sklearn.linear_model import LogisticRegression\n",
    "lr=LogisticRegression()\n",
    "lr=LogisticRegression(fit_intercept=True, solver = 'liblinear')\n",
    "lr.fit(X_train,y_train)\n",
    "y_pred=lr.predict(X_test)\n",
    "y_prob=lr.predict_proba(X_test)[:,1]\n",
    "y_tpred=lr.predict(X_train)\n",
    "y_tprob=lr.predict_proba(X_train)[:,1]\n",
    "print('pred: ',y_pred)\n",
    "print('prob: ',y_prob)"
   ]
  },
  {
   "cell_type": "markdown",
   "metadata": {},
   "source": [
    "# 8. Test accuracy calculation"
   ]
  },
  {
   "cell_type": "code",
   "execution_count": 29,
   "metadata": {},
   "outputs": [
    {
     "name": "stdout",
     "output_type": "stream",
     "text": [
      "Accuracy train: 0.7185714285714285\n",
      "Accuracy test: 0.6666666666666666\n",
      "roc_auc train: 0.630795\n",
      "roc_auc test: 0.6397\n"
     ]
    }
   ],
   "source": [
    "from sklearn.metrics import confusion_matrix, accuracy_score, roc_auc_score, roc_curve, classification_report\n",
    "print('Accuracy train:',accuracy_score(y_train,y_tpred))\n",
    "print('Accuracy test:',accuracy_score(y_test,y_pred))\n",
    "print('roc_auc train:',roc_auc_score(y_train,y_tprob))\n",
    "print('roc_auc test:',roc_auc_score(y_test,y_prob))"
   ]
  },
  {
   "cell_type": "markdown",
   "metadata": {},
   "source": [
    "# 9. Build a confusion matrix"
   ]
  },
  {
   "cell_type": "code",
   "execution_count": 30,
   "metadata": {},
   "outputs": [
    {
     "name": "stdout",
     "output_type": "stream",
     "text": [
      "train: [[ 12 188]\n",
      " [  9 491]]\n",
      "test: [[  5  95]\n",
      " [  5 195]]\n"
     ]
    }
   ],
   "source": [
    "print('train:',confusion_matrix(y_train,y_tpred))\n",
    "print('test:',confusion_matrix(y_test,y_pred))"
   ]
  },
  {
   "cell_type": "markdown",
   "metadata": {},
   "source": [
    "# 10.  Predicted Probability distribution Plots for Defaults and Non Defaults"
   ]
  },
  {
   "cell_type": "code",
   "execution_count": 32,
   "metadata": {},
   "outputs": [
    {
     "data": {
      "text/plain": [
       "<matplotlib.axes._subplots.AxesSubplot at 0x1df8b602d48>"
      ]
     },
     "execution_count": 32,
     "metadata": {},
     "output_type": "execute_result"
    },
    {
     "data": {
      "image/png": "[encoded data removed]",
      "text/plain": [
       "<Figure size 432x288 with 1 Axes>"
      ]
     },
     "metadata": {
      "needs_background": "light"
     },
     "output_type": "display_data"
    }
   ],
   "source": [
    "y_tt=pd.DataFrame([y_test.values,y_prob]).T\n",
    "d0=y_tt[y_tt[0]==0.0]\n",
    "d1=y_tt[y_tt[0]==1.0]\n",
    "sns.distplot(d0[1],color='r')\n",
    "sns.distplot(d1[1],color='g')"
   ]
  },
  {
   "cell_type": "code",
   "execution_count": 39,
   "metadata": {},
   "outputs": [
    {
     "name": "stdout",
     "output_type": "stream",
     "text": [
      "0.0    100\n",
      "Name: 0, dtype: int64\n",
      "1.0    200\n",
      "Name: 0, dtype: int64\n"
     ]
    }
   ],
   "source": [
    "print(d0[0].value_counts())\n",
    "print(d1[0].value_counts())"
   ]
  },
  {
   "cell_type": "code",
   "execution_count": null,
   "metadata": {},
   "outputs": [],
   "source": []
  }
 ],
 "metadata": {
  "kernelspec": {
   "display_name": "Python 3",
   "language": "python",
   "name": "python3"
  },
  "language_info": {
   "codemirror_mode": {
    "name": "ipython",
    "version": 3
   },
   "file_extension": ".py",
   "mimetype": "text/x-python",
   "name": "python",
   "nbconvert_exporter": "python",
   "pygments_lexer": "ipython3",
   "version": "3.8.8"
  }
 },
 "nbformat": 4,
 "nbformat_minor": 2
}
